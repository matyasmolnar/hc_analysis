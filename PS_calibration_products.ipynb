{
 "cells": [
  {
   "cell_type": "markdown",
   "metadata": {},
   "source": [
    "<center><strong><font size=+3>Power spectra at different stages of the calibration pipeline</font></center>\n",
    "<br><br>\n",
    "<center><strong><font size=+2>Matyas Molnar</font><br></strong></center>\n",
    "<br><center><strong><font size=+1>6th January 2020</font></strong></center>"
   ]
  },
  {
   "cell_type": "markdown",
   "metadata": {},
   "source": [
    "This jupyter notebook is designed to be run when logged into NRAO. In addition to the standard python libraries, it requires pyuvdata, hera_cal, and hera_qm. For more information on access, see the HERA wiki."
   ]
  },
  {
   "cell_type": "code",
   "execution_count": null,
   "metadata": {},
   "outputs": [],
   "source": [
    "import pyuvdata"
   ]
  },
  {
   "cell_type": "code",
   "execution_count": null,
   "metadata": {},
   "outputs": [],
   "source": [
    "import os\n",
    "import sys\n",
    "\n",
    "import numpy as np\n",
    "from matplotlib import pyplot as plt\n",
    "\n",
    "import hera_pspec as hp\n",
    "from hera_cal.io import HERAData\n",
    "from pyuvdata import UVData\n",
    "from pyuvdata import utils as uvutils"
   ]
  },
  {
   "cell_type": "code",
   "execution_count": null,
   "metadata": {},
   "outputs": [],
   "source": [
    "plt.rcParams[\"figure.figsize\"] = (12,8)\n",
    "%matplotlib inline"
   ]
  },
  {
   "cell_type": "code",
   "execution_count": null,
   "metadata": {},
   "outputs": [],
   "source": [
    "analysis_folder = '/lustre/aoc/projects/hera/H1C_IDR2/IDR2_2/2458098'\n",
    "H1C_IDR2_folder = '/lustre/aoc/projects/hera/H1C_IDR2/IDR2_2'\n",
    "raw_data_fn = 'zen.2458098.43869.HH.uvh5'\n",
    "\n",
    "hera_pkgs = '/users/heramgr/hera_software/'\n",
    "working_dir = '/lustre/aoc/projects/hera/mmolnar/hc_analysis/sample_calib'\n",
    "if not os.path.exists(analysis_folder): # working locally\n",
    "    analysis_folder = '/Users/matyasmolnar/Downloads/HERA_Data/robust_cal/'\n",
    "    hera_pkgs = '/Users/matyasmolnar/Downloads/HERA_Data/hera_packages/'\n",
    "    working_dir = '/Users/matyasmolnar/Downloads/HERA_Data/hc_analysis/sample_calib'\n",
    "    \n",
    "os.chdir(working_dir)"
   ]
  },
  {
   "cell_type": "markdown",
   "metadata": {},
   "source": [
    "The day-by-day data, along with the pipeline settings file used (makeflow/idr2_2.toml), and the LST-binned data can be found in:"
   ]
  },
  {
   "cell_type": "code",
   "execution_count": null,
   "metadata": {},
   "outputs": [],
   "source": [
    "!ls /lustre/aoc/projects/hera/H1C_IDR2/IDR2_2"
   ]
  },
  {
   "cell_type": "markdown",
   "metadata": {},
   "source": [
    "H1C IDR 2.2 includes 18 nearly-consecutive nights of data. All data products are sorted by JD into the following folders on the NRAO servers, which also contain softlinks to raw H1C IDR 2 data in the `.uvh5` format and antenna metrics released by the commissioning team. Each night has 73 raw visibility files. Each file has 4 polarizations, 1024 frequency channels and (usually) 60 integrations, each 10.7374 seconds."
   ]
  },
  {
   "cell_type": "code",
   "execution_count": null,
   "metadata": {},
   "outputs": [],
   "source": [
    "# this is the baseline and file we examine through this notebook\n",
    "raw_data_fn = 'zen.2458098.43869.HH.uvh5'\n",
    "raw_data_file = os.path.join(analysis_folder, raw_data_fn)\n",
    "bl = (38, 39, 'ee')"
   ]
  },
  {
   "cell_type": "code",
   "execution_count": null,
   "metadata": {},
   "outputs": [],
   "source": [
    "jd = os.path.basename(raw_data_file).split('.')[1]"
   ]
  },
  {
   "cell_type": "code",
   "execution_count": null,
   "metadata": {},
   "outputs": [],
   "source": [
    "hd = HERAData(raw_data_file)\n",
    "print('This file has', len(hd.times), 'integrations', 'and', len(hd.freqs), 'frequency channels.')"
   ]
  },
  {
   "cell_type": "code",
   "execution_count": null,
   "metadata": {},
   "outputs": [],
   "source": [
    "# only loads a single bl; default loads all bls\n",
    "data, flags, nsamples = hd.read(bls=[bl])"
   ]
  },
  {
   "cell_type": "code",
   "execution_count": null,
   "metadata": {},
   "outputs": [],
   "source": [
    "plt.figure(figsize=(12,3), dpi=100)\n",
    "plt.imshow(np.angle(data[bl]) / (~flags[bl]), aspect='auto', cmap='twilight',\n",
    "           extent=[hd.freqs[0]/1e6, hd.freqs[-1]/1e6, hd.times[-1]-int(jd), hd.times[0]-int(jd)])\n",
    "plt.ylabel('JD - {}'.format(jd))\n",
    "plt.xlabel('Frequency (MHz)')\n",
    "plt.title('Raw Visibility Phases: ' + str(bl))\n",
    "plt.colorbar(label='Phase (Radians)', aspect=8, pad=.025);"
   ]
  },
  {
   "cell_type": "markdown",
   "metadata": {},
   "source": [
    "### Calculating the delay spectrum"
   ]
  },
  {
   "cell_type": "code",
   "execution_count": null,
   "metadata": {},
   "outputs": [],
   "source": [
    "# Load beam model\n",
    "beamfile = os.path.join(hera_pkgs, 'hera_pspec/hera_pspec/data/HERA_NF_dipole_power.beamfits')\n",
    "cosmo = hp.conversions.Cosmo_Conversions()\n",
    "uvb = hp.pspecbeam.PSpecBeamUV(beamfile, cosmo=cosmo)"
   ]
  },
  {
   "cell_type": "code",
   "execution_count": null,
   "metadata": {},
   "outputs": [],
   "source": [
    "def pspec_calc(dfile):\n",
    "\n",
    "    # Load data into UVData objects\n",
    "    uvd = UVData()\n",
    "    uvd.read_uvh5(dfile)\n",
    "    \n",
    "    # find conversion factor from Jy to mK\n",
    "    Jy_to_mK = uvb.Jy_to_mK(np.unique(uvd.freq_array), pol='xx')\n",
    "\n",
    "    # reshape to appropriately match a UVData.data_array object and multiply in!\n",
    "    uvd.data_array *= Jy_to_mK[None, None, :, None]\n",
    "\n",
    "    # We only have 1 data file here, so slide the time axis by one integration \n",
    "    # to avoid noise bias (not normally needed!)\n",
    "    uvd1 = uvd.select(times=np.unique(uvd.time_array)[:-1:2], inplace=False)\n",
    "    uvd2 = uvd.select(times=np.unique(uvd.time_array)[1::2], inplace=False)\n",
    "\n",
    "    # Create a new PSpecData object\n",
    "    ds = hp.PSpecData(dsets=[uvd1, uvd2], wgts=[None, None], beam=uvb)\n",
    "    \n",
    "    # Because we are forming power spectra between datasets that are offset in LST there will be some\n",
    "    # level of decoherence (and therefore signal loss) of the EoR signal. For short baselines and small\n",
    "    # LST offsets this is typically negligible, but it is still good to try to recover what coherency\n",
    "    # we can, simply by phasing (i.e. fringe-stopping) the datasets before forming the power spectra. \n",
    "    # This can be done with the rephase_to_dset method, and can only be done once.    \n",
    "    ds.rephase_to_dset(0) # Phase to the zeroth dataset\n",
    "    \n",
    "    # change units of UVData objects\n",
    "    ds.dsets[0].vis_units = 'mK'\n",
    "    ds.dsets[1].vis_units = 'mK'\n",
    "\n",
    "    # Find list of baselines pairs to calculate power spectra for\n",
    "    uvd_ant_copy = uvd.copy()\n",
    "    uvd_ant_copy.select(times=uvd_ant_copy.time_array[0])\n",
    "\n",
    "    # Returned values: list of redundant groups, corresponding mean baseline vectors, baseline lengths. \n",
    "    # No conjugates included, so conjugates is None.\n",
    "    tol = 0.5  # Tolerance in meters\n",
    "    baseline_groups, vec_bin_centers, lengths = uvutils.get_baseline_redundancies(uvd_ant_copy.baseline_array, \\\n",
    "                                                                                  uvd_ant_copy.uvw_array, tol=tol)\n",
    "\n",
    "    # Selecting shortest (~14.6m) EW baselines group\n",
    "    # Check to see if baselines haven't already been aggregated by group - this is done in omnical\n",
    "    # where only 'only one baseline per unique separation' is kept\n",
    "    if len(baseline_groups) == len([bl for bl_group in baseline_groups for bl in bl_group]):\n",
    "        bls_to_include = baseline_groups[0]\n",
    "        bls1 = [uvutils.baseline_to_antnums(bls_to_include[0], len(uvd.get_ants()))]\n",
    "        bls2 = bls1\n",
    "    else:\n",
    "        bls_to_include = baseline_groups[1]\n",
    "        \n",
    "        # Converting to antnum tuples to be used to construct_blpairs later on\n",
    "        ant_pairs_to_include = [uvutils.baseline_to_antnums(i, len(uvd.get_ants())) for i in bls_to_include]\n",
    "        bls1, bls2, blp = hp.utils.construct_blpairs(ant_pairs_to_include, exclude_permutations=False, exclude_auto_bls=True)\n",
    "\n",
    "    # Power spectrum calculation\n",
    "    uvp = ds.pspec(bls1, bls2, (0, 1), [('xx', 'xx')], spw_ranges=[(300, 400), (600,721)], input_data_weight='identity', norm='I', \n",
    "                   taper='blackman-harris', verbose=False)\n",
    "\n",
    "    blpairs = np.unique(uvp.blpair_array)\n",
    "    blps = list(blpairs)\n",
    "    \n",
    "    return uvp, blps"
   ]
  },
  {
   "cell_type": "markdown",
   "metadata": {},
   "source": [
    "### LST-binned data"
   ]
  },
  {
   "cell_type": "code",
   "execution_count": null,
   "metadata": {},
   "outputs": [],
   "source": [
    "lstbinned_file = os.path.join(H1C_IDR2_folder, 'LSTBIN/one_group/grp1/zen.grp1.of1.LST.1.40949.HH.OCRSL.uvh5')\n",
    "lst_uvp, lst_blps = pspec_calc(lstbinned_file)"
   ]
  },
  {
   "cell_type": "code",
   "execution_count": null,
   "metadata": {},
   "outputs": [],
   "source": [
    "# Plot the spectra averaged over baseline-pairs and times\n",
    "fig, ax = plt.subplots(figsize=(12, 8))\n",
    "fig = hp.plot.delay_spectrum(lst_uvp, [lst_blps,], spw=0, pol=('xx','xx'), average_blpairs=True, \\\n",
    "                             average_times=False, ax=ax)\n",
    "plt.tight_layout()\n",
    "plt.show()"
   ]
  },
  {
   "cell_type": "markdown",
   "metadata": {},
   "source": [
    "### Raw data PS"
   ]
  },
  {
   "cell_type": "code",
   "execution_count": null,
   "metadata": {},
   "outputs": [],
   "source": [
    "raw_uvp, raw_blps = pspec_calc(raw_data_file)"
   ]
  },
  {
   "cell_type": "code",
   "execution_count": null,
   "metadata": {},
   "outputs": [],
   "source": [
    "# Plot the spectra averaged over baseline-pairs and times\n",
    "fig, ax = plt.subplots(figsize=(12, 8))\n",
    "fig = hp.plot.delay_spectrum(raw_uvp, [raw_blps,], spw=0, pol=('xx','xx'), average_blpairs=True, \\\n",
    "                             average_times=True, ax=ax)\n",
    "plt.tight_layout()\n",
    "plt.show()"
   ]
  },
  {
   "cell_type": "code",
   "execution_count": null,
   "metadata": {},
   "outputs": [],
   "source": [
    "# repeat for redundantly, absolutely, XRFI flagged absolutely, smooth, delay-filtered calibrated data"
   ]
  },
  {
   "cell_type": "code",
   "execution_count": null,
   "metadata": {},
   "outputs": [],
   "source": [
    "delay_filtered_fn = raw_data_fn.replace('uvh5', 'OCRSD.uvh5')\n",
    "delay_filtered_file = os.path.join(analysis_folder, delay_filtered_fn)"
   ]
  },
  {
   "cell_type": "code",
   "execution_count": null,
   "metadata": {},
   "outputs": [],
   "source": [
    "dly_uvp, dly_blps = pspec_calc(delay_filtered_file)"
   ]
  },
  {
   "cell_type": "code",
   "execution_count": null,
   "metadata": {},
   "outputs": [],
   "source": [
    "# Plot the spectra averaged over baseline-pairs and times\n",
    "fig, ax = plt.subplots(figsize=(12, 8))\n",
    "fig = hp.plot.delay_spectrum(dly_uvp, [dly_blps,], spw=0, pol=('xx','xx'), average_blpairs=True, \\\n",
    "                             average_times=True, ax=ax)\n",
    "plt.tight_layout()\n",
    "plt.show()"
   ]
  },
  {
   "cell_type": "markdown",
   "metadata": {},
   "source": [
    "### LST-binned data"
   ]
  },
  {
   "cell_type": "code",
   "execution_count": null,
   "metadata": {},
   "outputs": [],
   "source": [
    "# # The UVData files contain 3 time bins; let's average over baseline-pairs but keep the time bins intact. \n",
    "# # We can also use the shorthand 'xx' to specify the matching polarization pair ('ee', 'ee')\n",
    "# fig = hp.plot.delay_spectrum(uvp, [blps,], spw=0, pol='xx', average_blpairs=True, average_times=False)\n",
    "# fig.set_size_inches(12, 8)\n",
    "# plt.show()"
   ]
  },
  {
   "cell_type": "code",
   "execution_count": null,
   "metadata": {},
   "outputs": [],
   "source": [
    "# # And now let's try the opposite: average over times, but keep the baseline-pairs separate.\n",
    "# fig = hp.plot.delay_spectrum(uvp, [blps,], spw=0, pol='xx', average_blpairs=False, average_times=True)\n",
    "# fig.set_size_inches(12, 8)\n",
    "# plt.show()"
   ]
  }
 ],
 "metadata": {
  "kernelspec": {
   "display_name": "hera",
   "language": "python",
   "name": "hera"
  },
  "language_info": {
   "codemirror_mode": {
    "name": "ipython",
    "version": 3
   },
   "file_extension": ".py",
   "mimetype": "text/x-python",
   "name": "python",
   "nbconvert_exporter": "python",
   "pygments_lexer": "ipython3",
   "version": "3.7.5"
  }
 },
 "nbformat": 4,
 "nbformat_minor": 2
}
