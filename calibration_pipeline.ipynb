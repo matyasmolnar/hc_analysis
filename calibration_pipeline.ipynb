{
 "cells": [
  {
   "cell_type": "markdown",
   "metadata": {},
   "source": [
    "<center><strong><font size=+3>Calibration of visibilities in Jupyter</font></center>\n",
    "<br><br>\n",
    "<center><strong><font size=+2>Matyas Molnar</font><br></strong></center>\n",
    "<br><center><strong><font size=+1>8th January 2020</font></strong></center>"
   ]
  },
  {
   "cell_type": "code",
   "execution_count": null,
   "metadata": {
    "ExecuteTime": {
     "end_time": "2020-11-02T15:26:30.114357Z",
     "start_time": "2020-11-02T15:26:28.378711Z"
    }
   },
   "outputs": [],
   "source": [
    "import argparse\n",
    "import glob\n",
    "import os\n",
    "import sys\n",
    "from copy import deepcopy\n",
    "\n",
    "import numpy as np\n",
    "from matplotlib import pyplot as plt\n",
    "\n",
    "from hera_cal.abscal import match_times\n",
    "from hera_cal.apply_cal import calibrate_in_place\n",
    "from hera_cal.io import HERAData, HERACal\n",
    "from hera_cal.redcal import get_reds, redcal_argparser, redcal_run\n",
    "from hera_cal.utils import split_bl"
   ]
  },
  {
   "cell_type": "code",
   "execution_count": null,
   "metadata": {
    "ExecuteTime": {
     "end_time": "2020-11-02T15:26:30.121099Z",
     "start_time": "2020-11-02T15:26:30.116725Z"
    }
   },
   "outputs": [],
   "source": [
    "%matplotlib inline"
   ]
  },
  {
   "cell_type": "code",
   "execution_count": null,
   "metadata": {
    "ExecuteTime": {
     "end_time": "2020-11-02T15:33:19.233029Z",
     "start_time": "2020-11-02T15:33:19.230391Z"
    }
   },
   "outputs": [],
   "source": [
    "analysis_folder = '/lustre/aoc/projects/hera/mmolnar/makeflow_sample/raw_data'\n",
    "H1C_IDR2_folder = '/lustre/aoc/projects/hera/H1C_IDR2/IDR2_2'\n",
    "\n",
    "raw_data_fn = 'zen.2458098.43869.HH.uvh5'\n",
    "\n",
    "hera_pkgs = '/users/heramgr/hera_software/'\n",
    "if not os.path.exists(analysis_folder):\n",
    "    analysis_folder = '/Users/matyasmolnar/Downloads/HERA_Data/robust_cal/'\n",
    "    hera_pkgs = '/Users/matyasmolnar/Downloads/HERA_Data/hera_packages/'"
   ]
  },
  {
   "cell_type": "markdown",
   "metadata": {},
   "source": [
    "### Reading raw visibilities"
   ]
  },
  {
   "cell_type": "code",
   "execution_count": null,
   "metadata": {
    "ExecuteTime": {
     "end_time": "2020-11-02T15:28:07.936881Z",
     "start_time": "2020-11-02T15:28:07.934608Z"
    }
   },
   "outputs": [],
   "source": [
    "raw_data_file = os.path.join(analysis_folder, raw_data_fn) # local copy\n",
    "# this is the baseline and file we examine through this notebook\n",
    "bl = (38, 39, 'ee')"
   ]
  },
  {
   "cell_type": "code",
   "execution_count": null,
   "metadata": {
    "ExecuteTime": {
     "end_time": "2020-11-02T15:28:08.533256Z",
     "start_time": "2020-11-02T15:28:08.531195Z"
    }
   },
   "outputs": [],
   "source": [
    "jd = os.path.basename(raw_data_file).split('.')[1]"
   ]
  },
  {
   "cell_type": "code",
   "execution_count": null,
   "metadata": {
    "ExecuteTime": {
     "end_time": "2020-11-02T15:28:09.103815Z",
     "start_time": "2020-11-02T15:28:09.094556Z"
    }
   },
   "outputs": [],
   "source": [
    "def waterfall_column(waterfalls, flags, titles, clims=None, clabels=None, cmaps=None, ylims=None, \n",
    "                     ylabel='JD - {}'.format(jd), extents=None, hspace=.1, figsize=(12,6), dpi=100):\n",
    "    '''Useful plotting function for the IDR 2.2 memo.'''\n",
    "    if clims is None:\n",
    "        clims = [None for i in range(len(waterfalls))]\n",
    "    if clabels is None:\n",
    "        clabels = [None for i in range(len(waterfalls))]\n",
    "    if cmaps is None:\n",
    "        cmaps = [None for i in range(len(waterfalls))]\n",
    "    if ylims is None:\n",
    "        ylims = [None for i in range(len(waterfalls))]\n",
    "    if not any(isinstance(ex, list) for ex in extents):\n",
    "        extents = [extents for i in range(len(waterfalls))]\n",
    "\n",
    "    fig, axes = plt.subplots(len(waterfalls), 1, sharex=True, squeeze=True, figsize=figsize, dpi=dpi)\n",
    "    plt.subplots_adjust(hspace=hspace)\n",
    "    for ax, wf, f, t, clim, clabel, cmap, ylim, ex in zip(axes, waterfalls, flags, titles,\n",
    "                                                          clims, clabels, cmaps, ylims, extents):\n",
    "        with np.errstate(divide='ignore', invalid='ignore'):\n",
    "            im = ax.imshow(wf / ~f, aspect='auto', extent=ex, cmap=cmap)\n",
    "        plt.colorbar(im, ax=ax, label=clabel, aspect=8, pad=.025)\n",
    "        if ax == axes[-1]:\n",
    "            ax.set_xlabel('Frequency (MHz)')\n",
    "        im.set_clim(clim)\n",
    "        ax.set_ylabel(ylabel)\n",
    "        ax.set_ylim(ylim)\n",
    "        props = dict(boxstyle='round', facecolor='white', alpha=0.8)\n",
    "        ax.text(0.02, 0.9, t, transform=ax.transAxes, fontsize=14, verticalalignment='top', bbox=props)"
   ]
  },
  {
   "cell_type": "code",
   "execution_count": null,
   "metadata": {
    "ExecuteTime": {
     "end_time": "2020-11-02T15:28:09.864665Z",
     "start_time": "2020-11-02T15:28:09.567236Z"
    }
   },
   "outputs": [],
   "source": [
    "hd = HERAData(raw_data_file)\n",
    "print('This file has', len(hd.times), 'integrations', 'and', len(hd.freqs), 'frequency channels.')"
   ]
  },
  {
   "cell_type": "code",
   "execution_count": null,
   "metadata": {
    "ExecuteTime": {
     "end_time": "2020-11-02T15:28:12.349038Z",
     "start_time": "2020-11-02T15:28:10.451825Z"
    }
   },
   "outputs": [],
   "source": [
    "data, flags, nsamples = hd.read(bls=[bl]) # only loads a single bl; default loads all bls"
   ]
  },
  {
   "cell_type": "code",
   "execution_count": null,
   "metadata": {
    "ExecuteTime": {
     "end_time": "2020-11-02T15:28:12.602362Z",
     "start_time": "2020-11-02T15:28:12.351107Z"
    }
   },
   "outputs": [],
   "source": [
    "plt.figure(figsize=(12,3), dpi=100)\n",
    "plt.imshow(np.angle(data[bl]) / (~flags[bl]), aspect='auto', cmap='twilight',\n",
    "           extent=[hd.freqs[0]/1e6, hd.freqs[-1]/1e6, hd.times[-1]-int(jd), hd.times[0]-int(jd)])\n",
    "plt.ylabel('JD - {}'.format(jd))\n",
    "plt.xlabel('Frequency (MHz)')\n",
    "plt.title('Raw Visibility Phases: ' + str(bl))\n",
    "plt.colorbar(label='Phase (Radians)', aspect=8, pad=.025);"
   ]
  },
  {
   "cell_type": "code",
   "execution_count": null,
   "metadata": {
    "ExecuteTime": {
     "end_time": "2020-11-02T15:28:12.939835Z",
     "start_time": "2020-11-02T15:28:12.604463Z"
    }
   },
   "outputs": [],
   "source": [
    "plt.figure(figsize=(12,3), dpi=100)\n",
    "plt.imshow(np.absolute(data[bl]) / (~flags[bl]), aspect='auto', cmap='twilight',\n",
    "           extent=[hd.freqs[0]/1e6, hd.freqs[-1]/1e6, hd.times[-1]-int(jd), hd.times[0]-int(jd)],\n",
    "           vmax=.1)\n",
    "plt.ylabel('JD - {}'.format(jd))\n",
    "plt.xlabel('Frequency (MHz)')\n",
    "plt.title('Raw Visibility Amplitudes: ' + str(bl))\n",
    "plt.colorbar(label='Amplitude', aspect=8, pad=.025);"
   ]
  },
  {
   "cell_type": "markdown",
   "metadata": {},
   "source": [
    "### Redundant calibration"
   ]
  },
  {
   "cell_type": "code",
   "execution_count": null,
   "metadata": {
    "ExecuteTime": {
     "end_time": "2020-11-02T15:31:13.847962Z",
     "start_time": "2020-11-02T15:31:13.844723Z"
    }
   },
   "outputs": [],
   "source": [
    "hera_opm.__file__"
   ]
  },
  {
   "cell_type": "code",
   "execution_count": null,
   "metadata": {
    "ExecuteTime": {
     "end_time": "2020-11-02T15:28:13.914522Z",
     "start_time": "2020-11-02T15:28:12.941572Z"
    }
   },
   "outputs": [],
   "source": [
    "# load firstcal gains and flags\n",
    "firstcal_fn = raw_data_fn.replace('uvh5', 'first.calfits')\n",
    "firstcal_file = os.path.join(analysis_folder, firstcal_fn)\n",
    "hc = HERACal(firstcal_file)\n",
    "fc_gains, fc_flags, _, _ = hc.read()"
   ]
  },
  {
   "cell_type": "code",
   "execution_count": null,
   "metadata": {
    "ExecuteTime": {
     "end_time": "2020-11-02T15:33:53.769711Z",
     "start_time": "2020-11-02T15:33:53.764926Z"
    }
   },
   "outputs": [],
   "source": [
    "bad_ants_file = os.path.join(hera_pkgs, 'hera_opm/pipelines/h1c/idr2/v2/bad_ants/{}.txt'.format(jd))\n",
    "\n",
    "bad_ants = np.loadtxt(bad_ants_file).astype(int)\n",
    "print('Bad antennas for JD {} are: {}'.format(jd, list(bad_ants)))"
   ]
  },
  {
   "cell_type": "code",
   "execution_count": null,
   "metadata": {
    "ExecuteTime": {
     "end_time": "2020-11-02T15:34:34.823202Z",
     "start_time": "2020-11-02T15:33:54.627048Z"
    }
   },
   "outputs": [],
   "source": [
    "omni_vis_fn = raw_data_fn.replace('uvh5', 'omni_vis.uvh5')\n",
    "omni_vis_file = os.path.join(analysis_folder, omni_vis_fn)\n",
    "\n",
    "if not os.path.exists(omni_vis_file):\n",
    "    print('Running REDCAL on raw visibility file')\n",
    "    ant_z_thresh = 4.0\n",
    "    solar_horizon = 0.0\n",
    "    nInt_to_load = 8\n",
    "    flag_nchan_low = 50\n",
    "    flag_nchan_high = 50\n",
    "    min_bl_cut = 15\n",
    "    max_bl_cut = 90\n",
    "    ex_ants = bad_ants\n",
    "    outdir = '/lustre/aoc/projects/hera/mmolnar/makeflow_sample/makeflow'\n",
    "\n",
    "    redcal_run(raw_data_file, filetype='uvh5', firstcal_ext='.first.calfits', omnical_ext='.omni.calfits',\n",
    "            omnivis_ext='.omni_vis.uvh5', iter0_prefix='', outdir=outdir, ant_metrics_file=None, clobber=True, \n",
    "            nInt_to_load=nInt_to_load, pol_mode='2pol', bl_error_tol=1.0, ex_ants=ex_ants, ant_z_thresh=ant_z_thresh, \n",
    "            max_rerun=5, solar_horizon=solar_horizon, flag_nchan_low=flag_nchan_low, flag_nchan_high=flag_nchan_high, \n",
    "            fc_conv_crit=1e-6, fc_maxiter=50, oc_conv_crit=1e-10, oc_maxiter=500, check_every=10, check_after=50, gain=.4, \n",
    "            add_to_history='', verbose=True, min_bl_cut=min_bl_cut, max_bl_cut=max_bl_cut)\n",
    "else:\n",
    "    print('REDCAL omni calibrated file already exists')"
   ]
  },
  {
   "cell_type": "code",
   "execution_count": null,
   "metadata": {
    "ExecuteTime": {
     "end_time": "2020-11-02T15:26:33.792572Z",
     "start_time": "2020-11-02T15:26:28.434Z"
    }
   },
   "outputs": [],
   "source": [
    "hd = HERAData(omni_vis_file)"
   ]
  },
  {
   "cell_type": "code",
   "execution_count": null,
   "metadata": {
    "ExecuteTime": {
     "end_time": "2020-11-02T15:34:39.116738Z",
     "start_time": "2020-11-02T15:34:39.069326Z"
    }
   },
   "outputs": [],
   "source": [
    "# recall that at this stage, after redcal, all baselines of the same type are aggregated into baseline groups\n",
    "# with the baseline group nameed after the first baseline in that group type\n",
    "reds = get_reds(hd.antpos, pols=['ee'])\n",
    "red_dict = {bl: bl_group[0] for bl_group in reds for bl in bl_group}\n",
    "bl_red = red_dict[bl]\n",
    "print('Baseline {} corresponds to redundant baseline group of type {}'.format(bl, bl_red))"
   ]
  },
  {
   "cell_type": "code",
   "execution_count": null,
   "metadata": {
    "ExecuteTime": {
     "end_time": "2020-11-02T15:34:39.728386Z",
     "start_time": "2020-11-02T15:34:39.724728Z"
    }
   },
   "outputs": [],
   "source": [
    "selected_bls = [bl for bl, red_bl in red_dict.items() if red_bl == bl_red]\n",
    "selected_bls_flagged = [bl for bl in selected_bls if not any(j in bad_ants for j in bl[:2])]"
   ]
  },
  {
   "cell_type": "code",
   "execution_count": null,
   "metadata": {
    "ExecuteTime": {
     "end_time": "2020-11-02T15:34:43.159407Z",
     "start_time": "2020-11-02T15:34:40.149546Z"
    }
   },
   "outputs": [],
   "source": [
    "# load redundant baseline of type bl_red\n",
    "redcal_data, redcal_flags, redcal_nsamples = hd.read(bls=bl_red)"
   ]
  },
  {
   "cell_type": "code",
   "execution_count": null,
   "metadata": {
    "ExecuteTime": {
     "end_time": "2020-11-02T15:34:46.304656Z",
     "start_time": "2020-11-02T15:34:46.011910Z"
    }
   },
   "outputs": [],
   "source": [
    "plt.figure(figsize=(12,3), dpi=100)\n",
    "plt.imshow(np.angle(redcal_data[bl_red]) / (~redcal_flags[bl_red]), aspect='auto', cmap='twilight',\n",
    "           extent=[hd.freqs[0]/1e6, hd.freqs[-1]/1e6, hd.times[-1]-int(jd), hd.times[0]-int(jd)])\n",
    "plt.ylabel('JD - {}'.format(jd))\n",
    "plt.xlabel('Frequency (MHz)')\n",
    "plt.title('Omni Calibrated Visibility Phases of Redundant Group ' + str(bl_red))\n",
    "plt.colorbar(label='Phase (Radians)', aspect=8, pad=.025);"
   ]
  },
  {
   "cell_type": "code",
   "execution_count": null,
   "metadata": {
    "ExecuteTime": {
     "end_time": "2020-11-02T15:34:48.986023Z",
     "start_time": "2020-11-02T15:34:48.667744Z"
    }
   },
   "outputs": [],
   "source": [
    "plt.figure(figsize=(12,3), dpi=100)\n",
    "plt.imshow(np.absolute(redcal_data[bl_red]) / (~redcal_flags[bl_red]), aspect='auto', cmap='twilight',\n",
    "           extent=[hd.freqs[0]/1e6, hd.freqs[-1]/1e6, hd.times[-1]-int(jd), hd.times[0]-int(jd)],\n",
    "           vmax=.1)\n",
    "plt.ylabel('JD - {}'.format(jd))\n",
    "plt.xlabel('Frequency (MHz)')\n",
    "plt.title('Omni Calibrated Visibility Amplitudes of Redundant Group ' + str(bl_red))\n",
    "plt.colorbar(label='Amplitude', aspect=8, pad=.025);"
   ]
  },
  {
   "cell_type": "markdown",
   "metadata": {},
   "source": [
    "### Reading omni_cal calfits file to check antenna gains after omni_cal"
   ]
  },
  {
   "cell_type": "code",
   "execution_count": null,
   "metadata": {
    "ExecuteTime": {
     "end_time": "2020-11-02T15:34:52.272274Z",
     "start_time": "2020-11-02T15:34:52.259941Z"
    }
   },
   "outputs": [],
   "source": [
    "# load redundant calibration gains, flags, chi^2 per antenna, and chi^2 / DoF\n",
    "omni_calfits_fn = raw_data_fn.replace('uvh5', 'omni.calfits')\n",
    "omni_calfits_file = os.path.join(analysis_folder, omni_calfits_fn)\n",
    "hc = HERACal(omni_calfits_file)\n",
    "oc_gains, oc_flags, oc_quals, oc_total_quals = hc.read()"
   ]
  },
  {
   "cell_type": "code",
   "execution_count": null,
   "metadata": {
    "ExecuteTime": {
     "end_time": "2020-11-02T15:35:01.653683Z",
     "start_time": "2020-11-02T15:35:01.651391Z"
    }
   },
   "outputs": [],
   "source": [
    "ant = split_bl(bl)[0]"
   ]
  },
  {
   "cell_type": "code",
   "execution_count": null,
   "metadata": {
    "ExecuteTime": {
     "end_time": "2020-11-02T15:35:02.158488Z",
     "start_time": "2020-11-02T15:35:02.147913Z"
    }
   },
   "outputs": [],
   "source": [
    "waterfall_column([np.absolute(oc_gains[ant]), np.angle(oc_gains[ant]), oc_total_quals[ant[1]]],\n",
    "                 [oc_flags[ant], oc_flags[ant], oc_flags[ant]],\n",
    "                 ['Omnical Gain Amplitude: {}'.format(ant), 'Omnical Gain Phase: {}'.format(ant), 'Omnical $\\chi^2$ / DOF'],\n",
    "                 clims=[None, None, [0, 3]],\n",
    "                 clabels=['Amplitude', 'Phase (Radians)', '$\\chi^2$ / DoF (Unitless)'],\n",
    "                 cmaps = ['inferno', 'inferno', 'inferno'],\n",
    "                 extents=[hc.freqs[0] / 1e6, hc.freqs[-1] / 1e6, hc.times[-1] -int(jd), hc.times[0]-int(jd)])"
   ]
  },
  {
   "cell_type": "markdown",
   "metadata": {},
   "source": [
    "### Applying omni_cal solutions to the data"
   ]
  },
  {
   "cell_type": "markdown",
   "metadata": {},
   "source": [
    "### Absolute calibration"
   ]
  },
  {
   "cell_type": "code",
   "execution_count": null,
   "metadata": {
    "ExecuteTime": {
     "end_time": "2020-11-02T15:35:03.944158Z",
     "start_time": "2020-11-02T15:35:03.942168Z"
    }
   },
   "outputs": [],
   "source": [
    "# apply calibration solution to data"
   ]
  },
  {
   "cell_type": "code",
   "execution_count": null,
   "metadata": {
    "ExecuteTime": {
     "end_time": "2020-11-02T15:35:04.344078Z",
     "start_time": "2020-11-02T15:35:04.333274Z"
    }
   },
   "outputs": [],
   "source": [
    "# Load abscal calibration solutions\n",
    "abs_calfits_fn = raw_data_fn.replace('uvh5', 'abs.calfits')\n",
    "abs_calfits_file = os.path.join(analysis_folder, abs_calfits_fn)\n",
    "hc = HERACal(abs_calfits_file)\n",
    "ac_gains, ac_flags, ac_quals, ac_total_quals = hc.read()"
   ]
  },
  {
   "cell_type": "code",
   "execution_count": null,
   "metadata": {
    "ExecuteTime": {
     "end_time": "2020-11-02T15:26:33.807800Z",
     "start_time": "2020-11-02T15:26:28.508Z"
    }
   },
   "outputs": [],
   "source": [
    "waterfall_column([np.absolute(ac_gains[ant]), np.angle(ac_gains[ant]), ac_total_quals[ant[1]]],\n",
    "                 [ac_flags[ant], ac_flags[ant], ac_flags[ant]],\n",
    "                 ['Abscal Gain Amplitude: {}'.format(ant), 'Abscal Gain Phase: {}'.format(ant), 'Abscal $\\chi^2$ / DOF'],\n",
    "                 clims=[[0, .04], None, [0, 5]],\n",
    "                 clabels=['Amplitude', 'Phase (Radians)', '$\\chi^2$ / DoF (Unitless)'],\n",
    "                 cmaps = ['inferno', 'inferno', 'inferno'],\n",
    "                 extents=[hc.freqs[0] / 1e6, hc.freqs[-1] / 1e6, hc.times[-1] -int(jd), hc.times[0]-int(jd)])"
   ]
  },
  {
   "cell_type": "code",
   "execution_count": null,
   "metadata": {
    "ExecuteTime": {
     "end_time": "2020-11-02T15:26:33.809868Z",
     "start_time": "2020-11-02T15:26:28.510Z"
    }
   },
   "outputs": [],
   "source": [
    "# Apply abscal calibration to data\n",
    "abscal_data, abscal_flags = deepcopy(data), deepcopy(flags)\n",
    "calibrate_in_place(abscal_data, ac_gains, data_flags=abscal_flags, cal_flags=ac_flags)"
   ]
  },
  {
   "cell_type": "code",
   "execution_count": null,
   "metadata": {
    "ExecuteTime": {
     "end_time": "2020-11-02T15:26:33.811666Z",
     "start_time": "2020-11-02T15:26:28.512Z"
    }
   },
   "outputs": [],
   "source": [
    "# Find corresponding LSTs in the externally calibrated Abscal Model\n",
    "model_files = glob.glob('/lustre/aoc/projects/hera/nkern/idr3_abscal_models/full_model/' +\n",
    "                        'zen.2458042.*.HH.uvRXLS.uvh5') # cheatingly slightly by only checking the .5* files\n",
    "matched_model_files = sorted(set(match_times(raw_data_file, model_files, filetype='uvh5')))\n",
    "hdm = HERAData(matched_model_files)\n",
    "model, model_flags, _ = hdm.read(bls=[bl])"
   ]
  },
  {
   "cell_type": "code",
   "execution_count": null,
   "metadata": {
    "ExecuteTime": {
     "end_time": "2020-11-02T15:26:33.813200Z",
     "start_time": "2020-11-02T15:26:28.513Z"
    }
   },
   "outputs": [],
   "source": [
    "# compare redundantly + absolutely calibrated data to model\n",
    "waterfall_column([np.angle(abscal_data[bl]), np.angle(model[bl])],\n",
    "                 [abscal_flags[bl], model_flags[bl]],\n",
    "                 ['Absolutely Calibrated: {}'.format(bl), 'Externally Calibrated Reference: {}'.format(bl)],\n",
    "                 clabels=['Phase (Radians)', 'Phase (Radians)'],\n",
    "                 ylabel='LST (Radians)',\n",
    "                 cmaps = ['twilight', 'twilight'],  \n",
    "                 ylims = [[model.lsts[-1], model.lsts[0]], None],\n",
    "                 extents=[[hd.freqs[0] / 1e6, hd.freqs[-1] / 1e6, hd.lsts[-1], hd.lsts[0]],\n",
    "                          [model.freqs[0] / 1e6, model.freqs[-1] / 1e6, model.lsts[-1], model.lsts[0]]])"
   ]
  },
  {
   "cell_type": "markdown",
   "metadata": {},
   "source": [
    "### RFI Flagging"
   ]
  },
  {
   "cell_type": "code",
   "execution_count": null,
   "metadata": {
    "ExecuteTime": {
     "end_time": "2020-11-02T15:26:33.814714Z",
     "start_time": "2020-11-02T15:26:28.535Z"
    }
   },
   "outputs": [],
   "source": [
    "# load flagged calibration solutions\n",
    "flagged_abscal_fn = raw_data_fn.replace('uvh5', 'flagged_abs.calfits')\n",
    "flagged_abscal_file = os.path.join(analysis_folder, flagged_abscal_fn)\n",
    "hc = HERACal(flagged_abscal_file)\n",
    "fac_gains, fac_flags, fac_quals, fac_total_quals = hc.read()"
   ]
  },
  {
   "cell_type": "code",
   "execution_count": null,
   "metadata": {
    "ExecuteTime": {
     "end_time": "2020-11-02T15:26:33.816251Z",
     "start_time": "2020-11-02T15:26:28.539Z"
    }
   },
   "outputs": [],
   "source": [
    "waterfall_column([np.abs(fac_gains[ant]), np.angle(fac_gains[ant]), fac_total_quals[ant[1]]],\n",
    "                 [fac_flags[ant], fac_flags[ant], fac_flags[ant]],\n",
    "                 ['Flagged Abscal Amplitude: {}'.format(ant), \n",
    "                  'Flagged Abscal Phase: {}'.format(ant), \n",
    "                  'Flagged Abscal $\\chi^2$'],\n",
    "                 clabels=['Amplitude (Unitless)', 'Phase (Radians)', '$\\chi^2$ (Unnormalized)'],\n",
    "                 cmaps = ['inferno', 'inferno', 'inferno'],\n",
    "                 extents=[hc.freqs[0] / 1e6, hc.freqs[-1] / 1e6, hc.times[-1] - int(jd), hc.times[0] - int(jd)])"
   ]
  },
  {
   "cell_type": "code",
   "execution_count": null,
   "metadata": {
    "ExecuteTime": {
     "end_time": "2020-11-02T15:26:33.818131Z",
     "start_time": "2020-11-02T15:26:28.541Z"
    }
   },
   "outputs": [],
   "source": [
    "# applying these calibration solutions and flags to the data to get visibilities for the baseline\n",
    "# specified at the start of the notebook\n",
    "\n",
    "# Applying abscal (+ redcal) + RFI flagged calibration to data\n",
    "flagged_abscal_data, flagged_abscal_flags = deepcopy(data), deepcopy(flags)\n",
    "calibrate_in_place(flagged_abscal_data, fac_gains, data_flags=flagged_abscal_flags, cal_flags=fac_flags)"
   ]
  },
  {
   "cell_type": "code",
   "execution_count": null,
   "metadata": {
    "ExecuteTime": {
     "end_time": "2020-11-02T15:26:33.820152Z",
     "start_time": "2020-11-02T15:26:28.543Z"
    }
   },
   "outputs": [],
   "source": [
    "waterfall_column([np.absolute(flagged_abscal_data[bl]), np.angle(flagged_abscal_data[bl])],\n",
    "                 [flagged_abscal_flags[bl], flagged_abscal_flags[bl]],\n",
    "                 ['Flagged Abscal Amplitude: {}'.format(bl), 'Flagged Abscal Phase: {}'.format(bl)],\n",
    "                 clabels=['Amplitude', 'Phase (Radians)'],\n",
    "                 ylabel='LST (Radians)',\n",
    "                 cmaps = ['twilight', 'twilight'],             \n",
    "                 extents=[[hd.freqs[0] / 1e6, hd.freqs[-1] / 1e6, hd.lsts[-1], hd.lsts[0]],\n",
    "                          [hd.freqs[0] / 1e6, hd.freqs[-1] / 1e6, hd.lsts[-1], hd.lsts[0]]])"
   ]
  },
  {
   "cell_type": "markdown",
   "metadata": {},
   "source": [
    "### Calibration smoothing"
   ]
  },
  {
   "cell_type": "code",
   "execution_count": null,
   "metadata": {
    "ExecuteTime": {
     "end_time": "2020-11-02T15:26:33.821713Z",
     "start_time": "2020-11-02T15:26:28.565Z"
    }
   },
   "outputs": [],
   "source": [
    "# load flagged calibration solutions\n",
    "smoothcal_fn = raw_data_fn.replace('uvh5', 'flagged_abs.calfits')\n",
    "smoothcal_file = os.path.join(analysis_folder, smoothcal_fn)\n",
    "hc = HERACal(smoothcal_file)\n",
    "sac_gains, sac_flags, sac_quals, sac_total_quals = hc.read()"
   ]
  },
  {
   "cell_type": "code",
   "execution_count": null,
   "metadata": {
    "ExecuteTime": {
     "end_time": "2020-11-02T15:26:33.823158Z",
     "start_time": "2020-11-02T15:26:28.567Z"
    }
   },
   "outputs": [],
   "source": [
    "# find antenna that was picked as the reference by looking for unflagged antennas with 0 phase\n",
    "sc_refant = {pol: sorted([(np.mean(np.abs(np.angle(sac_gains[ant]))), ant) \n",
    "                          for ant in sac_gains if ant[1]==pol and not np.all(sac_flags[ant])])[0][1]\n",
    "                          for pol in hc.pols}\n",
    "for pol in hc.pols:\n",
    "    print('Antenna {} chosen as the reference for {}.'.format(sc_refant[pol][0], pol))"
   ]
  },
  {
   "cell_type": "code",
   "execution_count": null,
   "metadata": {
    "ExecuteTime": {
     "end_time": "2020-11-02T15:26:33.824703Z",
     "start_time": "2020-11-02T15:26:28.569Z"
    }
   },
   "outputs": [],
   "source": [
    "# rephase abscal to to have the same reference antenna as smooth_cal\n",
    "rephased_abscal = fac_gains[ant] * np.abs(fac_gains[sc_refant[ant[1]]]) / fac_gains[sc_refant[ant[1]]]\n",
    "smoothcal_gains = deepcopy(sac_gains[ant])"
   ]
  },
  {
   "cell_type": "code",
   "execution_count": null,
   "metadata": {
    "ExecuteTime": {
     "end_time": "2020-11-02T15:26:33.826540Z",
     "start_time": "2020-11-02T15:26:28.571Z"
    }
   },
   "outputs": [],
   "source": [
    "waterfall_column([np.abs(smoothcal_gains), np.angle(smoothcal_gains), sac_total_quals[ant[1]]],\n",
    "                 [sac_flags[ant], sac_flags[ant], sac_flags[ant]],\n",
    "                 ['Smoothcal Amplitude: {}'.format(ant), \n",
    "                  'Smoothcal Phase: {}'.format(ant), \n",
    "                  'Smoothcal $\\chi^2$'],\n",
    "                 clabels=['Amplitude (Unitless)', 'Phase (Radians)', '$\\chi^2$ (Unnormalized)'],\n",
    "                 cmaps = ['inferno', 'inferno', 'inferno'],\n",
    "                 extents=[hc.freqs[0] / 1e6, hc.freqs[-1] / 1e6, hc.times[-1] - int(jd), hc.times[0] - int(jd)])"
   ]
  },
  {
   "cell_type": "code",
   "execution_count": null,
   "metadata": {
    "ExecuteTime": {
     "end_time": "2020-11-02T15:26:33.828217Z",
     "start_time": "2020-11-02T15:26:28.572Z"
    }
   },
   "outputs": [],
   "source": [
    "# Comparing to abscal\n",
    "waterfall_column([np.abs(rephased_abscal), np.abs(smoothcal_gains)],\n",
    "                 [fac_flags[ant], sac_flags[ant]],\n",
    "                 ['Rephased Abscal Amplitude: {}'.format(ant), \n",
    "                  'Smoothcal Amplitude: {}'.format(ant)],\n",
    "                 clabels=['Amplitude (Unitless)', 'Phase (Radians)'],\n",
    "                 cmaps = ['inferno', 'inferno'],\n",
    "                 extents=[hc.freqs[0] / 1e6, hc.freqs[-1] / 1e6, hc.times[-1] - int(jd), hc.times[0] - int(jd)])"
   ]
  },
  {
   "cell_type": "code",
   "execution_count": null,
   "metadata": {
    "ExecuteTime": {
     "end_time": "2020-11-02T15:26:33.829676Z",
     "start_time": "2020-11-02T15:26:28.574Z"
    }
   },
   "outputs": [],
   "source": [
    "# Applying smoothcal to data\n",
    "smoothcal_data, smoothcal_flags = deepcopy(data), deepcopy(flags)\n",
    "calibrate_in_place(smoothcal_data, sac_gains, data_flags=smoothcal_flags, cal_flags=sac_flags)"
   ]
  },
  {
   "cell_type": "code",
   "execution_count": null,
   "metadata": {
    "ExecuteTime": {
     "end_time": "2020-11-02T15:26:33.831061Z",
     "start_time": "2020-11-02T15:26:28.576Z"
    }
   },
   "outputs": [],
   "source": [
    "waterfall_column([np.absolute(smoothcal_data[bl]), np.angle(smoothcal_data[bl])],\n",
    "                 [smoothcal_flags[bl], smoothcal_flags[bl]],\n",
    "                 ['Smoothcal Amplitude: {}'.format(bl), 'Smoothcal Phase: {}'.format(bl)],\n",
    "                 clabels=['Amplitude', 'Phase (Radians)'],\n",
    "                 ylabel='LST (Radians)',\n",
    "                 cmaps = ['twilight', 'twilight'],             \n",
    "                 extents=[[hd.freqs[0] / 1e6, hd.freqs[-1] / 1e6, hd.lsts[-1], hd.lsts[0]],\n",
    "                          [hd.freqs[0] / 1e6, hd.freqs[-1] / 1e6, hd.lsts[-1], hd.lsts[0]]])"
   ]
  },
  {
   "cell_type": "markdown",
   "metadata": {},
   "source": [
    "### Delay filtering"
   ]
  },
  {
   "cell_type": "code",
   "execution_count": null,
   "metadata": {
    "ExecuteTime": {
     "end_time": "2020-11-02T15:26:33.832218Z",
     "start_time": "2020-11-02T15:26:28.599Z"
    }
   },
   "outputs": [],
   "source": [
    "delay_filtered_fn = raw_data_fn.replace('uvh5', 'OCRSD.uvh5')\n",
    "delay_filtered_file = os.path.join(analysis_folder, delay_filtered_fn)\n",
    "hd_dfil = HERAData(delay_filtered_file)\n",
    "dfil_data, dfil_flags, _ = hd_dfil.read(bls=[bl])"
   ]
  },
  {
   "cell_type": "code",
   "execution_count": null,
   "metadata": {
    "ExecuteTime": {
     "end_time": "2020-11-02T15:26:33.833547Z",
     "start_time": "2020-11-02T15:26:28.601Z"
    }
   },
   "outputs": [],
   "source": [
    "waterfall_column([np.absolute(dfil_data[bl]), np.angle(dfil_data[bl])],\n",
    "                 [dfil_flags[bl], dfil_flags[bl]],\n",
    "                 ['Delay-filtered Amplitude: {}'.format(bl), \n",
    "                  'Delay-filtered Phase: {}'.format(bl)],\n",
    "                 clabels=['Amplitude', 'Phase (Radians)'],\n",
    "                 cmaps = ['inferno', 'inferno'],\n",
    "                 clims=[[0, 15], None],\n",
    "                 extents=[hc.freqs[0] / 1e6, hc.freqs[-1] / 1e6, hc.times[-1] - int(jd), hc.times[0] - int(jd)])"
   ]
  },
  {
   "cell_type": "markdown",
   "metadata": {},
   "source": [
    "### LST Binning"
   ]
  },
  {
   "cell_type": "code",
   "execution_count": null,
   "metadata": {
    "ExecuteTime": {
     "end_time": "2020-11-02T15:26:33.834924Z",
     "start_time": "2020-11-02T15:26:28.625Z"
    }
   },
   "outputs": [],
   "source": [
    "lstbinned_file = os.path.join(H1C_IDR2_folder,'LSTBIN/one_group/grp1/zen.grp1.of1.LST.1.40949.HH.OCRSL.uvh5')\n",
    "hd_lst = HERAData(lstbinned_file)\n",
    "lst_data, lst_flags, lst_nsamples = hd_lst.read(bls=[bl])"
   ]
  },
  {
   "cell_type": "code",
   "execution_count": null,
   "metadata": {
    "ExecuteTime": {
     "end_time": "2020-11-02T15:26:33.836230Z",
     "start_time": "2020-11-02T15:26:28.627Z"
    }
   },
   "outputs": [],
   "source": [
    "# compare redundantly and then absolutely calibrated data to externally calibrated reference\n",
    "waterfall_column([np.angle(smoothcal_data[bl]), np.angle(lst_data[bl]), lst_nsamples[bl]],\n",
    "                 [smoothcal_flags[bl], lst_flags[bl], np.zeros_like(lst_flags[bl])],\n",
    "                 ['2458098: {}'.format(bl), 'LST-binned: {}'.format(bl), 'LST-binning samples: {}'.format(bl)],\n",
    "                 clabels=['Phase (Radians)', 'Phase (Radians)', 'Number of Samples'],\n",
    "                 ylabel='LST (Radians)',\n",
    "                 cmaps = ['twilight', 'twilight', 'inferno'],\n",
    "                 ylims = [[hd_lst.lsts[-1], hd_lst.lsts[0]], None, None],                 \n",
    "                 extents=[[hd.freqs[0] / 1e6, hd.freqs[-1] / 1e6, hd.lsts[-1], hd.lsts[0]], \n",
    "                          [hd_lst.freqs[0] / 1e6, hd_lst.freqs[-1] / 1e6, hd_lst.lsts[-1], hd_lst.lsts[0]],\n",
    "                          [hd_lst.freqs[0] / 1e6, hd_lst.freqs[-1] / 1e6, hd_lst.lsts[-1], hd_lst.lsts[0]]])"
   ]
  },
  {
   "cell_type": "markdown",
   "metadata": {},
   "source": [
    "### Comparing all visibility products"
   ]
  },
  {
   "cell_type": "code",
   "execution_count": null,
   "metadata": {
    "ExecuteTime": {
     "end_time": "2020-11-02T15:26:33.837633Z",
     "start_time": "2020-11-02T15:26:28.651Z"
    }
   },
   "outputs": [],
   "source": [
    "waterfall_column([np.angle(data[bl]), np.angle(redcal_data[bl_red]), np.angle(abscal_data[bl]), np.angle(flagged_abscal_data[bl]), np.angle(smoothcal_data[bl])],\n",
    "                 [flags[bl], redcal_flags[bl_red], abscal_flags[bl], flagged_abscal_flags[bl], smoothcal_flags[bl]],\n",
    "                 ['Raw Phase: {}'.format(bl), 'Redcal Phase: {}'.format(bl), 'Abscal Phase: {}'.format(bl), 'Flagged Abscal Phase: {}'.format(bl), 'Smoothcal Phase: {}'.format(bl)],\n",
    "                 clabels=['Phase (Radians)', 'Phase (Radians)', 'Phase (Radians)', 'Phase (Radians)', 'Phase (Radians)'],\n",
    "                 ylabel='LST (Radians)',\n",
    "                 cmaps = ['twilight', 'twilight', 'twilight', 'twilight', 'twilight'],\n",
    "                 extents=[[hd.freqs[0] / 1e6, hd.freqs[-1] / 1e6, hd.lsts[-1], hd.lsts[0]],\n",
    "                          [hd.freqs[0] / 1e6, hd.freqs[-1] / 1e6, hd.lsts[-1], hd.lsts[0]],\n",
    "                          [hd.freqs[0] / 1e6, hd.freqs[-1] / 1e6, hd.lsts[-1], hd.lsts[0]],\n",
    "                          [hd.freqs[0] / 1e6, hd.freqs[-1] / 1e6, hd.lsts[-1], hd.lsts[0]],\n",
    "                          [hd.freqs[0] / 1e6, hd.freqs[-1] / 1e6, hd.lsts[-1], hd.lsts[0]]],\n",
    "                 figsize=(12,8))"
   ]
  },
  {
   "cell_type": "code",
   "execution_count": null,
   "metadata": {
    "ExecuteTime": {
     "end_time": "2020-11-02T15:26:33.839086Z",
     "start_time": "2020-11-02T15:26:28.653Z"
    }
   },
   "outputs": [],
   "source": [
    "max_smoothcal_value = np.max(np.absolute((flagged_abscal_data[bl][~flagged_abscal_flags[bl]])))\n",
    "\n",
    "waterfall_column([np.absolute(data[bl]), np.absolute(redcal_data[bl_red]), np.absolute(abscal_data[bl]), np.absolute(flagged_abscal_data[bl]), np.absolute(smoothcal_data[bl])],\n",
    "                 [flags[bl], redcal_flags[bl_red], abscal_flags[bl], flagged_abscal_flags[bl], smoothcal_flags[bl]],\n",
    "                 ['Raw Amplitude: {}'.format(bl), 'Redcal Amplitude: {}'.format(bl), 'Abscal Amplitude: {}'.format(bl), 'Flagged Abscal Amplitude: {}'.format(bl), 'Smoothcal Amplitude: {}'.format(bl)],\n",
    "                 clabels=['Amplitude', 'Amplitude', 'Amplitude', 'Amplitude)', 'Amplitude'],\n",
    "                 ylabel='LST (Radians)',\n",
    "                 cmaps = ['twilight', 'twilight', 'twilight', 'twilight', 'twilight'],\n",
    "                 clims=[[0, .1], [0, .1], [0, max_smoothcal_value], None, None],\n",
    "                 extents=[[hd.freqs[0] / 1e6, hd.freqs[-1] / 1e6, hd.lsts[-1], hd.lsts[0]],\n",
    "                          [hd.freqs[0] / 1e6, hd.freqs[-1] / 1e6, hd.lsts[-1], hd.lsts[0]],\n",
    "                          [hd.freqs[0] / 1e6, hd.freqs[-1] / 1e6, hd.lsts[-1], hd.lsts[0]],\n",
    "                          [hd.freqs[0] / 1e6, hd.freqs[-1] / 1e6, hd.lsts[-1], hd.lsts[0]],\n",
    "                          [hd.freqs[0] / 1e6, hd.freqs[-1] / 1e6, hd.lsts[-1], hd.lsts[0]]],\n",
    "                 figsize=(12,8))"
   ]
  }
 ],
 "metadata": {
  "kernelspec": {
   "display_name": "Python 3",
   "language": "python",
   "name": "python3"
  },
  "language_info": {
   "codemirror_mode": {
    "name": "ipython",
    "version": 3
   },
   "file_extension": ".py",
   "mimetype": "text/x-python",
   "name": "python",
   "nbconvert_exporter": "python",
   "pygments_lexer": "ipython3",
   "version": "3.7.6"
  },
  "toc": {
   "base_numbering": 1,
   "nav_menu": {},
   "number_sections": true,
   "sideBar": true,
   "skip_h1_title": false,
   "title_cell": "Table of Contents",
   "title_sidebar": "Contents",
   "toc_cell": false,
   "toc_position": {
    "height": "calc(100% - 180px)",
    "left": "10px",
    "top": "150px",
    "width": "289.594px"
   },
   "toc_section_display": true,
   "toc_window_display": true
  }
 },
 "nbformat": 4,
 "nbformat_minor": 2
}
