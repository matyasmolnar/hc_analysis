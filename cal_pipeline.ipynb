{
 "cells": [
  {
   "cell_type": "markdown",
   "metadata": {},
   "source": [
    "<center><strong><font size=+3>Calibration products from the H1C_IDR2.2 makeflow pipeline</font></center>\n",
    "<br><br>\n",
    "</center>\n",
    "<center><strong><font size=+2>Matyas Molnar</font><br></strong></center>\n",
    "<br><center><strong><font size=+1>Astrophysics Group, Cavendish Laboratory, University of Cambridge</font></strong></center>"
   ]
  },
  {
   "cell_type": "code",
   "execution_count": null,
   "metadata": {},
   "outputs": [],
   "source": [
    "import glob\n",
    "import os\n",
    "from copy import deepcopy\n",
    "\n",
    "import numpy as np\n",
    "from matplotlib import pyplot as plt\n",
    "\n",
    "from hera_cal.abscal import match_times\n",
    "from hera_cal.apply_cal import calibrate_in_place\n",
    "from hera_cal.io import HERAData, HERACal\n",
    "from hera_cal.redcal import get_reds\n",
    "from hera_cal.utils import split_bl\n",
    "\n",
    "from cal_utils import plot_vis, waterfall_column"
   ]
  },
  {
   "cell_type": "code",
   "execution_count": null,
   "metadata": {},
   "outputs": [],
   "source": [
    "%matplotlib inline"
   ]
  },
  {
   "cell_type": "code",
   "execution_count": null,
   "metadata": {},
   "outputs": [],
   "source": [
    "JD = 2458098.43869"
   ]
  },
  {
   "cell_type": "code",
   "execution_count": null,
   "metadata": {},
   "outputs": [],
   "source": [
    "analysis_folder = '/lustre/aoc/projects/hera/H1C_IDR2/IDR2_2/{}'.format(int(JD))\n",
    "raw_data_fn = 'zen.{}.HH.uvh5'.format(JD)\n",
    "\n",
    "hera_pkgs = '/users/heramgr/hera_software/'\n",
    "if not os.path.exists(analysis_folder): # working locally\n",
    "    analysis_folder = '/Users/matyasmolnar/Downloads/HERA_Data/hc_analysis/sample_calib'\n",
    "    hera_pkgs = '/Users/matyasmolnar/Downloads/HERA_Data/hera_packages/'"
   ]
  },
  {
   "cell_type": "markdown",
   "metadata": {},
   "source": [
    "### Reading raw visibilities"
   ]
  },
  {
   "cell_type": "code",
   "execution_count": null,
   "metadata": {},
   "outputs": [],
   "source": [
    "raw_data_file = os.path.join(analysis_folder, raw_data_fn)\n",
    "# this is the baseline and file we examine through this notebook\n",
    "bl = (38, 39, 'ee')"
   ]
  },
  {
   "cell_type": "code",
   "execution_count": null,
   "metadata": {},
   "outputs": [],
   "source": [
    "hd = HERAData(raw_data_file)\n",
    "print('This file has', len(hd.times), 'integrations', 'and', len(hd.freqs), 'frequency channels.')"
   ]
  },
  {
   "cell_type": "code",
   "execution_count": null,
   "metadata": {},
   "outputs": [],
   "source": [
    "data, flags, nsamples = hd.read(bls=[bl]) # only loads a single bl; default loads all bls"
   ]
  },
  {
   "cell_type": "code",
   "execution_count": null,
   "metadata": {},
   "outputs": [],
   "source": [
    "plot_vis(data, flags, hd, JD, bl, 'phase', title='Raw Visibility Phases')"
   ]
  },
  {
   "cell_type": "code",
   "execution_count": null,
   "metadata": {},
   "outputs": [],
   "source": [
    "plot_vis(data, flags, hd, JD, bl, 'amp', title='Raw Visibility Amplitudes')"
   ]
  },
  {
   "cell_type": "markdown",
   "metadata": {},
   "source": [
    "### Redundant calibration"
   ]
  },
  {
   "cell_type": "code",
   "execution_count": null,
   "metadata": {},
   "outputs": [],
   "source": [
    "# load firstcal gains and flags\n",
    "firstcal_fn = raw_data_fn.replace('uvh5', 'first.calfits')\n",
    "firstcal_file = os.path.join(analysis_folder, firstcal_fn)\n",
    "hc = HERACal(firstcal_file)\n",
    "fc_gains, fc_flags, _, _ = hc.read()"
   ]
  },
  {
   "cell_type": "code",
   "execution_count": null,
   "metadata": {},
   "outputs": [],
   "source": [
    "bad_ants_file = os.path.join(hera_pkgs, 'hera_pipelines/pipelines/h1c/idr2/v2/bad_ants/{}.txt'.format(int(JD)))\n",
    "\n",
    "bad_ants = np.loadtxt(bad_ants_file).astype(int)\n",
    "print('Bad antennas for JD {} are: {}'.format(int(JD), list(bad_ants)))"
   ]
  },
  {
   "cell_type": "code",
   "execution_count": null,
   "metadata": {},
   "outputs": [],
   "source": [
    "omni_vis_fn = raw_data_fn.replace('uvh5', 'omni_vis.uvh5')\n",
    "omni_vis_file = os.path.join(analysis_folder, omni_vis_fn)\n",
    "hd = HERAData(omni_vis_file)"
   ]
  },
  {
   "cell_type": "code",
   "execution_count": null,
   "metadata": {},
   "outputs": [],
   "source": [
    "# recall that at this stage, after redcal, all baselines of the same type are aggregated into baseline groups\n",
    "# with the baseline group nameed after the first baseline in that group type\n",
    "reds = get_reds(hd.antpos, pols=['ee'])\n",
    "red_dict = {bl: bl_group[0] for bl_group in reds for bl in bl_group}\n",
    "bl_red = red_dict[bl]\n",
    "print('Baseline {} corresponds to redundant baseline group of type {}'.format(bl, bl_red))"
   ]
  },
  {
   "cell_type": "code",
   "execution_count": null,
   "metadata": {},
   "outputs": [],
   "source": [
    "selected_bls = [bl for bl, red_bl in red_dict.items() if red_bl == bl_red]\n",
    "selected_bls_flagged = [bl for bl in selected_bls if not any(j in bad_ants for j in bl[:2])]"
   ]
  },
  {
   "cell_type": "code",
   "execution_count": null,
   "metadata": {},
   "outputs": [],
   "source": [
    "# load redundant baseline of type bl_red\n",
    "redcal_data, redcal_flags, redcal_nsamples = hd.read(bls=bl_red)"
   ]
  },
  {
   "cell_type": "code",
   "execution_count": null,
   "metadata": {},
   "outputs": [],
   "source": [
    "plot_vis(redcal_data, redcal_flags, hd, JD, bl_red, 'phase', \\\n",
    "         title='Omni Calibrated Visibility Phases of Redundant Group')"
   ]
  },
  {
   "cell_type": "code",
   "execution_count": null,
   "metadata": {},
   "outputs": [],
   "source": [
    "plot_vis(redcal_data, redcal_flags, hd, JD, bl_red, 'amp', \\\n",
    "         title='Omni Calibrated Visibility Amplitudes of Redundant Group')"
   ]
  },
  {
   "cell_type": "markdown",
   "metadata": {},
   "source": [
    "### Reading omni_cal calfits file to check antenna gains after omni_cal"
   ]
  },
  {
   "cell_type": "code",
   "execution_count": null,
   "metadata": {},
   "outputs": [],
   "source": [
    "# load redundant calibration gains, flags, chi^2 per antenna, and chi^2 / DoF\n",
    "omni_calfits_fn = raw_data_fn.replace('uvh5', 'omni.calfits')\n",
    "omni_calfits_file = os.path.join(analysis_folder, omni_calfits_fn)\n",
    "hc = HERACal(omni_calfits_file)\n",
    "oc_gains, oc_flags, oc_quals, oc_total_quals = hc.read()"
   ]
  },
  {
   "cell_type": "code",
   "execution_count": null,
   "metadata": {},
   "outputs": [],
   "source": [
    "ant = split_bl(bl)[0]"
   ]
  },
  {
   "cell_type": "code",
   "execution_count": null,
   "metadata": {},
   "outputs": [],
   "source": [
    "wc_ylabel = 'JD - {}'.format(int(JD))\n",
    "waterfall_column([np.absolute(oc_gains[ant]), np.angle(oc_gains[ant]), oc_total_quals[ant[1]]],\n",
    "                 [oc_flags[ant], oc_flags[ant], oc_flags[ant]],\n",
    "                 ['Omnical Gain Amplitude: {}'.format(ant), 'Omnical Gain Phase: {}'.format(ant), 'Omnical $\\chi^2$ / DOF'],\n",
    "                 wc_ylabel,\n",
    "                 clims=[None, None, [0, 3]],\n",
    "                 clabels=['Amplitude', 'Phase (Radians)', '$\\chi^2$ / DoF (Unitless)'],\n",
    "                 cmaps = ['inferno', 'inferno', 'inferno'],\n",
    "                 extents=[hc.freqs[0] / 1e6, hc.freqs[-1] / 1e6, hc.times[-1] -int(JD), hc.times[0]-int(JD)])"
   ]
  },
  {
   "cell_type": "code",
   "execution_count": null,
   "metadata": {},
   "outputs": [],
   "source": [
    "# Applying omni_cal solutions to the data?"
   ]
  },
  {
   "cell_type": "markdown",
   "metadata": {},
   "source": [
    "### Absolute calibration"
   ]
  },
  {
   "cell_type": "code",
   "execution_count": null,
   "metadata": {},
   "outputs": [],
   "source": [
    "# Apply calibration solution to data"
   ]
  },
  {
   "cell_type": "code",
   "execution_count": null,
   "metadata": {},
   "outputs": [],
   "source": [
    "# Load abscal calibration solutions\n",
    "abs_calfits_fn = raw_data_fn.replace('uvh5', 'abs.calfits')\n",
    "abs_calfits_file = os.path.join(analysis_folder, abs_calfits_fn)\n",
    "hc = HERACal(abs_calfits_file)\n",
    "ac_gains, ac_flags, ac_quals, ac_total_quals = hc.read()"
   ]
  },
  {
   "cell_type": "code",
   "execution_count": null,
   "metadata": {},
   "outputs": [],
   "source": [
    "waterfall_column([np.absolute(ac_gains[ant]), np.angle(ac_gains[ant]), ac_total_quals[ant[1]]],\n",
    "                 [ac_flags[ant], ac_flags[ant], ac_flags[ant]],\n",
    "                 ['Abscal Gain Amplitude: {}'.format(ant), 'Abscal Gain Phase: {}'.format(ant), 'Abscal $\\chi^2$ / DOF'],\n",
    "                 wc_ylabel,\n",
    "                 clims=[[0, .04], None, [0, 5]],\n",
    "                 clabels=['Amplitude', 'Phase (Radians)', '$\\chi^2$ / DoF (Unitless)'],\n",
    "                 cmaps = ['inferno', 'inferno', 'inferno'],\n",
    "                 extents=[hc.freqs[0] / 1e6, hc.freqs[-1] / 1e6, hc.times[-1] -int(JD), hc.times[0]-int(JD)])"
   ]
  },
  {
   "cell_type": "code",
   "execution_count": null,
   "metadata": {},
   "outputs": [],
   "source": [
    "# Apply abscal calibration to data\n",
    "abscal_data, abscal_flags = deepcopy(data), deepcopy(flags)\n",
    "calibrate_in_place(abscal_data, ac_gains, data_flags=abscal_flags, cal_flags=ac_flags)"
   ]
  },
  {
   "cell_type": "code",
   "execution_count": null,
   "metadata": {},
   "outputs": [],
   "source": [
    "# Find corresponding LSTs in the externally calibrated Abscal Model\n",
    "model_dir = '/lustre/aoc/projects/hera/nkern/idr3_abscal_models/full_model/' # at NRAO\n",
    "if not os.path.exists(model_dir):\n",
    "    model_dir = analysis_folder # local copy\n",
    "\n",
    "model_files = glob.glob(os.path.join(model_dir, 'zen.2458042.*.HH.uvRXLS.uvh5')) # cheatingly slightly by only checking the .5* files\n",
    "matched_model_files = sorted(set(match_times(raw_data_file, model_files, filetype='uvh5')))\n",
    "hdm = HERAData(matched_model_files)\n",
    "model, model_flags, _ = hdm.read(bls=[bl])"
   ]
  },
  {
   "cell_type": "code",
   "execution_count": null,
   "metadata": {},
   "outputs": [],
   "source": [
    "# compare redundantly + absolutely calibrated data to model\n",
    "waterfall_column([np.angle(abscal_data[bl]), np.angle(model[bl])],\n",
    "                 [abscal_flags[bl], model_flags[bl]],\n",
    "                 ['Absolutely Calibrated: {}'.format(bl), 'Externally Calibrated Reference: {}'.format(bl)],\n",
    "                 'LST (Radians)',\n",
    "                 clabels=['Phase (Radians)', 'Phase (Radians)'],\n",
    "                 cmaps = ['twilight', 'twilight'],  \n",
    "                 ylims = [[model.lsts[-1], model.lsts[0]], None],\n",
    "                 extents=[[hd.freqs[0] / 1e6, hd.freqs[-1] / 1e6, hd.lsts[-1], hd.lsts[0]],\n",
    "                          [model.freqs[0] / 1e6, model.freqs[-1] / 1e6, model.lsts[-1], model.lsts[0]]])"
   ]
  },
  {
   "cell_type": "markdown",
   "metadata": {},
   "source": [
    "### RFI Flagging"
   ]
  },
  {
   "cell_type": "code",
   "execution_count": null,
   "metadata": {},
   "outputs": [],
   "source": [
    "# load flagged calibration solutions\n",
    "flagged_abscal_fn = raw_data_fn.replace('uvh5', 'flagged_abs.calfits')\n",
    "flagged_abscal_file = os.path.join(analysis_folder, flagged_abscal_fn)\n",
    "hc = HERACal(flagged_abscal_file)\n",
    "fac_gains, fac_flags, fac_quals, fac_total_quals = hc.read()"
   ]
  },
  {
   "cell_type": "code",
   "execution_count": null,
   "metadata": {},
   "outputs": [],
   "source": [
    "waterfall_column([np.abs(fac_gains[ant]), np.angle(fac_gains[ant]), fac_total_quals[ant[1]]],\n",
    "                 [fac_flags[ant], fac_flags[ant], fac_flags[ant]],\n",
    "                 ['Flagged Abscal Amplitude: {}'.format(ant), \n",
    "                  'Flagged Abscal Phase: {}'.format(ant), \n",
    "                  'Flagged Abscal $\\chi^2$'],\n",
    "                 wc_ylabel,\n",
    "                 clabels=['Amplitude (Unitless)', 'Phase (Radians)', '$\\chi^2$ (Unnormalized)'],\n",
    "                 cmaps = ['inferno', 'inferno', 'inferno'],\n",
    "                 extents=[hc.freqs[0] / 1e6, hc.freqs[-1] / 1e6, hc.times[-1] - int(JD), hc.times[0] - int(JD)])"
   ]
  },
  {
   "cell_type": "code",
   "execution_count": null,
   "metadata": {},
   "outputs": [],
   "source": [
    "# applying these calibration solutions and flags to the data to get visibilities for the baseline\n",
    "# specified at the start of the notebook\n",
    "\n",
    "# Applying abscal (+ redcal) + RFI flagged calibration to data\n",
    "flagged_abscal_data, flagged_abscal_flags = deepcopy(data), deepcopy(flags)\n",
    "calibrate_in_place(flagged_abscal_data, fac_gains, data_flags=flagged_abscal_flags, cal_flags=fac_flags)"
   ]
  },
  {
   "cell_type": "code",
   "execution_count": null,
   "metadata": {},
   "outputs": [],
   "source": [
    "waterfall_column([np.absolute(flagged_abscal_data[bl]), np.angle(flagged_abscal_data[bl])],\n",
    "                 [flagged_abscal_flags[bl], flagged_abscal_flags[bl]],\n",
    "                 ['Flagged Abscal Amplitude: {}'.format(bl), 'Flagged Abscal Phase: {}'.format(bl)],\n",
    "                 'LST (Radians)',\n",
    "                 clabels=['Amplitude', 'Phase (Radians)'],\n",
    "                 cmaps = ['twilight', 'twilight'],             \n",
    "                 extents=[[hd.freqs[0] / 1e6, hd.freqs[-1] / 1e6, hd.lsts[-1], hd.lsts[0]],\n",
    "                          [hd.freqs[0] / 1e6, hd.freqs[-1] / 1e6, hd.lsts[-1], hd.lsts[0]]])"
   ]
  },
  {
   "cell_type": "markdown",
   "metadata": {},
   "source": [
    "### Calibration smoothing"
   ]
  },
  {
   "cell_type": "code",
   "execution_count": null,
   "metadata": {},
   "outputs": [],
   "source": [
    "# load flagged calibration solutions\n",
    "smoothcal_fn = raw_data_fn.replace('uvh5', 'flagged_abs.calfits')\n",
    "smoothcal_file = os.path.join(analysis_folder, smoothcal_fn)\n",
    "hc = HERACal(smoothcal_file)\n",
    "sac_gains, sac_flags, sac_quals, sac_total_quals = hc.read()"
   ]
  },
  {
   "cell_type": "code",
   "execution_count": null,
   "metadata": {},
   "outputs": [],
   "source": [
    "# find antenna that was picked as the reference by looking for unflagged antennas with 0 phase\n",
    "sc_refant = {pol: sorted([(np.mean(np.abs(np.angle(sac_gains[ant]))), ant) \n",
    "                          for ant in sac_gains if ant[1]==pol and not np.all(sac_flags[ant])])[0][1]\n",
    "                          for pol in hc.pols}\n",
    "for pol in hc.pols:\n",
    "    print('Antenna {} chosen as the reference for {}.'.format(sc_refant[pol][0], pol))"
   ]
  },
  {
   "cell_type": "code",
   "execution_count": null,
   "metadata": {},
   "outputs": [],
   "source": [
    "# rephase abscal to to have the same reference antenna as smooth_cal\n",
    "rephased_abscal = fac_gains[ant] * np.abs(fac_gains[sc_refant[ant[1]]]) / fac_gains[sc_refant[ant[1]]]\n",
    "smoothcal_gains = deepcopy(sac_gains[ant])"
   ]
  },
  {
   "cell_type": "code",
   "execution_count": null,
   "metadata": {},
   "outputs": [],
   "source": [
    "waterfall_column([np.abs(smoothcal_gains), np.angle(smoothcal_gains), sac_total_quals[ant[1]]],\n",
    "                 [sac_flags[ant], sac_flags[ant], sac_flags[ant]],\n",
    "                 ['Smoothcal Amplitude: {}'.format(ant), \n",
    "                  'Smoothcal Phase: {}'.format(ant), \n",
    "                  'Smoothcal $\\chi^2$'],\n",
    "                 wc_ylabel,\n",
    "                 clabels=['Amplitude (Unitless)', 'Phase (Radians)', '$\\chi^2$ (Unnormalized)'],\n",
    "                 cmaps = ['inferno', 'inferno', 'inferno'],\n",
    "                 extents=[hc.freqs[0] / 1e6, hc.freqs[-1] / 1e6, hc.times[-1] - int(JD), hc.times[0] - int(JD)])"
   ]
  },
  {
   "cell_type": "code",
   "execution_count": null,
   "metadata": {},
   "outputs": [],
   "source": [
    "# Comparing to abscal\n",
    "waterfall_column([np.abs(rephased_abscal), np.abs(smoothcal_gains)],\n",
    "                 [fac_flags[ant], sac_flags[ant]],\n",
    "                 ['Rephased Abscal Amplitude: {}'.format(ant), \n",
    "                  'Smoothcal Amplitude: {}'.format(ant)],\n",
    "                 wc_ylabel,\n",
    "                 clabels=['Amplitude (Unitless)', 'Phase (Radians)'],\n",
    "                 cmaps = ['inferno', 'inferno'],\n",
    "                 extents=[hc.freqs[0] / 1e6, hc.freqs[-1] / 1e6, hc.times[-1] - int(JD), hc.times[0] - int(JD)])"
   ]
  },
  {
   "cell_type": "code",
   "execution_count": null,
   "metadata": {},
   "outputs": [],
   "source": [
    "# Applying smoothcal to data\n",
    "smoothcal_data, smoothcal_flags = deepcopy(data), deepcopy(flags)\n",
    "calibrate_in_place(smoothcal_data, sac_gains, data_flags=smoothcal_flags, cal_flags=sac_flags)"
   ]
  },
  {
   "cell_type": "code",
   "execution_count": null,
   "metadata": {},
   "outputs": [],
   "source": [
    "waterfall_column([np.absolute(smoothcal_data[bl]), np.angle(smoothcal_data[bl])],\n",
    "                 [smoothcal_flags[bl], smoothcal_flags[bl]],\n",
    "                 ['Smoothcal Amplitude: {}'.format(bl), 'Smoothcal Phase: {}'.format(bl)],\n",
    "                 'LST (Radians)',\n",
    "                 clabels=['Amplitude', 'Phase (Radians)'],\n",
    "                 cmaps = ['twilight', 'twilight'],             \n",
    "                 extents=[[hd.freqs[0] / 1e6, hd.freqs[-1] / 1e6, hd.lsts[-1], hd.lsts[0]],\n",
    "                          [hd.freqs[0] / 1e6, hd.freqs[-1] / 1e6, hd.lsts[-1], hd.lsts[0]]])"
   ]
  },
  {
   "cell_type": "markdown",
   "metadata": {},
   "source": [
    "### Delay filtering"
   ]
  },
  {
   "cell_type": "code",
   "execution_count": null,
   "metadata": {},
   "outputs": [],
   "source": [
    "delay_filtered_fn = raw_data_fn.replace('uvh5', 'OCRSD.uvh5')\n",
    "delay_filtered_file = os.path.join(analysis_folder, delay_filtered_fn)\n",
    "hd_dfil = HERAData(delay_filtered_file)\n",
    "dfil_data, dfil_flags, _ = hd_dfil.read(bls=[bl])"
   ]
  },
  {
   "cell_type": "code",
   "execution_count": null,
   "metadata": {},
   "outputs": [],
   "source": [
    "waterfall_column([np.absolute(dfil_data[bl]), np.angle(dfil_data[bl])],\n",
    "                 [dfil_flags[bl], dfil_flags[bl]],\n",
    "                 ['Delay-filtered Amplitude: {}'.format(bl), \n",
    "                  'Delay-filtered Phase: {}'.format(bl)],\n",
    "                 wc_ylabel,\n",
    "                 clabels=['Amplitude', 'Phase (Radians)'],\n",
    "                 cmaps = ['inferno', 'inferno'],\n",
    "                 clims=[[0, 15], None],\n",
    "                 extents=[hc.freqs[0] / 1e6, hc.freqs[-1] / 1e6, hc.times[-1] - int(JD), hc.times[0] - int(JD)])"
   ]
  },
  {
   "cell_type": "markdown",
   "metadata": {},
   "source": [
    "### LST Binning"
   ]
  },
  {
   "cell_type": "code",
   "execution_count": null,
   "metadata": {},
   "outputs": [],
   "source": [
    "# Find corresponding LSTs in the externally calibrated Abscal Model\n",
    "lstbin_dir = '/lustre/aoc/projects/hera/H1C_IDR2/IDR2_2/LSTBIN/one_group/grp1' # at NRAO\n",
    "if not os.path.exists(lstbin_dir):\n",
    "    lstbin_dir = analysis_folder # local copy\n",
    "\n",
    "lstbinned_file = os.path.join(lstbin_dir, 'zen.grp1.of1.LST.1.40949.HH.OCRSL.uvh5')\n",
    "hd_lst = HERAData(lstbinned_file)\n",
    "lst_data, lst_flags, lst_nsamples = hd_lst.read(bls=[bl])"
   ]
  },
  {
   "cell_type": "code",
   "execution_count": null,
   "metadata": {},
   "outputs": [],
   "source": [
    "# compare redundantly and then absolutely calibrated data to externally calibrated reference\n",
    "waterfall_column([np.angle(smoothcal_data[bl]), np.angle(lst_data[bl]), lst_nsamples[bl]],\n",
    "                 [smoothcal_flags[bl], lst_flags[bl], np.zeros_like(lst_flags[bl])],\n",
    "                 ['2458098: {}'.format(bl), 'LST-binned: {}'.format(bl), 'LST-binning samples: {}'.format(bl)],\n",
    "                 'LST (Radians)',\n",
    "                 clabels=['Phase (Radians)', 'Phase (Radians)', 'Number of Samples'],\n",
    "                 cmaps = ['twilight', 'twilight', 'inferno'],\n",
    "                 ylims = [[hd_lst.lsts[-1], hd_lst.lsts[0]], None, None],                 \n",
    "                 extents=[[hd.freqs[0] / 1e6, hd.freqs[-1] / 1e6, hd.lsts[-1], hd.lsts[0]], \n",
    "                          [hd_lst.freqs[0] / 1e6, hd_lst.freqs[-1] / 1e6, hd_lst.lsts[-1], hd_lst.lsts[0]],\n",
    "                          [hd_lst.freqs[0] / 1e6, hd_lst.freqs[-1] / 1e6, hd_lst.lsts[-1], hd_lst.lsts[0]]])"
   ]
  },
  {
   "cell_type": "markdown",
   "metadata": {},
   "source": [
    "### Comparing all visibility products"
   ]
  },
  {
   "cell_type": "code",
   "execution_count": null,
   "metadata": {},
   "outputs": [],
   "source": [
    "waterfall_column([np.angle(data[bl]), np.angle(redcal_data[bl_red]), np.angle(abscal_data[bl]), np.angle(flagged_abscal_data[bl]), np.angle(smoothcal_data[bl])],\n",
    "                 [flags[bl], redcal_flags[bl_red], abscal_flags[bl], flagged_abscal_flags[bl], smoothcal_flags[bl]],\n",
    "                 ['Raw Phase: {}'.format(bl), 'Redcal Phase: {}'.format(bl), 'Abscal Phase: {}'.format(bl), 'Flagged Abscal Phase: {}'.format(bl), 'Smoothcal Phase: {}'.format(bl)],\n",
    "                 'LST (Radians)',\n",
    "                 clabels=['Phase (Radians)', 'Phase (Radians)', 'Phase (Radians)', 'Phase (Radians)', 'Phase (Radians)'],\n",
    "                 cmaps = ['twilight', 'twilight', 'twilight', 'twilight', 'twilight'],\n",
    "                 extents=[[hd.freqs[0] / 1e6, hd.freqs[-1] / 1e6, hd.lsts[-1], hd.lsts[0]],\n",
    "                          [hd.freqs[0] / 1e6, hd.freqs[-1] / 1e6, hd.lsts[-1], hd.lsts[0]],\n",
    "                          [hd.freqs[0] / 1e6, hd.freqs[-1] / 1e6, hd.lsts[-1], hd.lsts[0]],\n",
    "                          [hd.freqs[0] / 1e6, hd.freqs[-1] / 1e6, hd.lsts[-1], hd.lsts[0]],\n",
    "                          [hd.freqs[0] / 1e6, hd.freqs[-1] / 1e6, hd.lsts[-1], hd.lsts[0]]],\n",
    "                 figsize=(12,8))"
   ]
  },
  {
   "cell_type": "code",
   "execution_count": null,
   "metadata": {},
   "outputs": [],
   "source": [
    "max_smoothcal_value = np.max(np.absolute((flagged_abscal_data[bl][~flagged_abscal_flags[bl]])))\n",
    "\n",
    "waterfall_column([np.absolute(data[bl]), np.absolute(redcal_data[bl_red]), np.absolute(abscal_data[bl]), np.absolute(flagged_abscal_data[bl]), np.absolute(smoothcal_data[bl])],\n",
    "                 [flags[bl], redcal_flags[bl_red], abscal_flags[bl], flagged_abscal_flags[bl], smoothcal_flags[bl]],\n",
    "                 ['Raw Amplitude: {}'.format(bl), 'Redcal Amplitude: {}'.format(bl), 'Abscal Amplitude: {}'.format(bl), 'Flagged Abscal Amplitude: {}'.format(bl), 'Smoothcal Amplitude: {}'.format(bl)],\n",
    "                 'LST (Radians)',\n",
    "                 clabels=['Amplitude', 'Amplitude', 'Amplitude', 'Amplitude)', 'Amplitude'],\n",
    "                 cmaps = ['twilight', 'twilight', 'twilight', 'twilight', 'twilight'],\n",
    "                 clims=[[0, .1], [0, .1], [0, max_smoothcal_value], None, None],\n",
    "                 extents=[[hd.freqs[0] / 1e6, hd.freqs[-1] / 1e6, hd.lsts[-1], hd.lsts[0]],\n",
    "                          [hd.freqs[0] / 1e6, hd.freqs[-1] / 1e6, hd.lsts[-1], hd.lsts[0]],\n",
    "                          [hd.freqs[0] / 1e6, hd.freqs[-1] / 1e6, hd.lsts[-1], hd.lsts[0]],\n",
    "                          [hd.freqs[0] / 1e6, hd.freqs[-1] / 1e6, hd.lsts[-1], hd.lsts[0]],\n",
    "                          [hd.freqs[0] / 1e6, hd.freqs[-1] / 1e6, hd.lsts[-1], hd.lsts[0]]],\n",
    "                 figsize=(12,8))"
   ]
  },
  {
   "cell_type": "code",
   "execution_count": null,
   "metadata": {},
   "outputs": [],
   "source": []
  }
 ],
 "metadata": {
  "kernelspec": {
   "display_name": "Python 3",
   "language": "python",
   "name": "python3"
  },
  "language_info": {
   "codemirror_mode": {
    "name": "ipython",
    "version": 3
   },
   "file_extension": ".py",
   "mimetype": "text/x-python",
   "name": "python",
   "nbconvert_exporter": "python",
   "pygments_lexer": "ipython3",
   "version": "3.7.9"
  },
  "toc": {
   "base_numbering": 1,
   "nav_menu": {},
   "number_sections": true,
   "sideBar": true,
   "skip_h1_title": false,
   "title_cell": "Table of Contents",
   "title_sidebar": "Contents",
   "toc_cell": false,
   "toc_position": {
    "height": "calc(100% - 180px)",
    "left": "10px",
    "top": "150px",
    "width": "186.594px"
   },
   "toc_section_display": true,
   "toc_window_display": true
  }
 },
 "nbformat": 4,
 "nbformat_minor": 2
}
