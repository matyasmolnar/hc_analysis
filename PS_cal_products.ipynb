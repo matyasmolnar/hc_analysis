{
 "cells": [
  {
   "cell_type": "markdown",
   "metadata": {},
   "source": [
    "<center><strong><font size=+3>Power spectra at each stage of the HERA calibration pipeline</font></center>\n",
    "<br><br>\n",
    "<center><strong><font size=+2>Matyas Molnar</font><br></strong></center>\n",
    "<br><center><strong><font size=+1>Astrophysics Group, Cavendish Laboratory, University of Cambridge</font></strong></center>"
   ]
  },
  {
   "cell_type": "markdown",
   "metadata": {},
   "source": [
    "Notebook to show the resulting power spectra of visibilities, after each step of the HERA calibration pipeline."
   ]
  },
  {
   "cell_type": "code",
   "execution_count": null,
   "metadata": {},
   "outputs": [],
   "source": [
    "import os\n",
    "import sys\n",
    "\n",
    "import numpy as np\n",
    "from matplotlib import pyplot as plt\n",
    "\n",
    "from hera_cal.io import HERAData\n",
    "import hera_pspec as hp\n",
    "\n",
    "from ps_comp import pspec_calc "
   ]
  },
  {
   "cell_type": "code",
   "execution_count": null,
   "metadata": {},
   "outputs": [],
   "source": [
    "plt.rcParams[\"figure.figsize\"] = (12,8)"
   ]
  },
  {
   "cell_type": "code",
   "execution_count": null,
   "metadata": {},
   "outputs": [],
   "source": [
    "%matplotlib inline"
   ]
  },
  {
   "cell_type": "code",
   "execution_count": null,
   "metadata": {},
   "outputs": [],
   "source": [
    "JD = 2458098.43869"
   ]
  },
  {
   "cell_type": "code",
   "execution_count": null,
   "metadata": {},
   "outputs": [],
   "source": [
    "analysis_folder = '/lustre/aoc/projects/hera/H1C_IDR2/IDR2_2/{}'.format(int(JD))\n",
    "lstbin_dir = '/lustre/aoc/projects/hera/H1C_IDR2/IDR2_2/LSTBIN/one_group/grp1'\n",
    "raw_data_fn = 'zen.{}.HH.uvh5'.format(JD)\n",
    "hera_pkgs = '/users/heramgr/hera_software/'\n",
    "\n",
    "if not os.path.exists(analysis_folder): # working locally\n",
    "    analysis_folder = '/Users/matyasmolnar/Downloads/HERA_Data/hc_analysis/sample_calib'\n",
    "    hera_pkgs = '/Users/matyasmolnar/Downloads/HERA_Data/hera_packages/'\n",
    "    lstbin_dir = analysis_folder\n",
    "    \n",
    "lstbinned_file = os.path.join(lstbin_dir, 'zen.grp1.of1.LST.1.40949.HH.OCRSL.uvh5')"
   ]
  },
  {
   "cell_type": "markdown",
   "metadata": {},
   "source": [
    "H1C IDR 2.2 includes 18 nearly-consecutive nights of data. All data products are sorted by JD into the following folders on the NRAO servers, which also contain softlinks to raw H1C IDR 2 data in the `.uvh5` format and antenna metrics released by the commissioning team. Each night has 73 raw visibility files. Each file has 4 polarizations, 1024 frequency channels and (usually) 60 integrations, each 10.7374 seconds."
   ]
  },
  {
   "cell_type": "code",
   "execution_count": null,
   "metadata": {},
   "outputs": [],
   "source": [
    "# this is the baseline and file we examine through this notebook\n",
    "raw_data_file = os.path.join(analysis_folder, raw_data_fn)\n",
    "bl = (38, 39, 'ee')"
   ]
  },
  {
   "cell_type": "code",
   "execution_count": null,
   "metadata": {},
   "outputs": [],
   "source": [
    "hd = HERAData(raw_data_file)\n",
    "data, flags, nsamples = hd.read(bls=[bl])"
   ]
  },
  {
   "cell_type": "markdown",
   "metadata": {},
   "source": [
    "## Calculating delay spectra"
   ]
  },
  {
   "cell_type": "markdown",
   "metadata": {},
   "source": [
    "### Raw visibilities"
   ]
  },
  {
   "cell_type": "code",
   "execution_count": null,
   "metadata": {},
   "outputs": [],
   "source": [
    "# example calculation on raw data\n",
    "uvp, blps = pspec_calc(raw_data_file)"
   ]
  },
  {
   "cell_type": "code",
   "execution_count": null,
   "metadata": {},
   "outputs": [],
   "source": [
    "# Plot the spectra averaged over baseline-pairs and times\n",
    "fig, ax = plt.subplots(figsize=(12, 8))\n",
    "_ = hp.plot.delay_spectrum(uvp, [blps,], spw=0, pol=('xx','xx'), average_blpairs=True, average_times=True, ax=ax)\n",
    "plt.tight_layout()\n",
    "plt.show()"
   ]
  },
  {
   "cell_type": "code",
   "execution_count": null,
   "metadata": {},
   "outputs": [],
   "source": [
    "# The UVData files contain 3 time bins; let's average over baseline-pairs but keep the time bins intact. \n",
    "# We can also use the shorthand 'ee' to specify the matching polarization pair ('ee', 'ee')\n",
    "fig, ax = plt.subplots(figsize=(12, 8))\n",
    "_ = hp.plot.delay_spectrum(uvp, [blps,], spw=0, pol='xx', average_blpairs=True, average_times=False, ax=ax)\n",
    "plt.tight_layout()\n",
    "plt.show()"
   ]
  },
  {
   "cell_type": "code",
   "execution_count": null,
   "metadata": {},
   "outputs": [],
   "source": [
    "# And now let's try the opposite: average over times, but keep the baseline-pairs separate.\n",
    "fig, ax = plt.subplots(figsize=(12, 8))\n",
    "_ = hp.plot.delay_spectrum(uvp, [blps,], spw=0, pol='xx', average_blpairs=False, average_times=True, ax=ax)\n",
    "plt.tight_layout()\n",
    "plt.show()"
   ]
  },
  {
   "cell_type": "markdown",
   "metadata": {},
   "source": [
    "### LST-binned data"
   ]
  },
  {
   "cell_type": "code",
   "execution_count": null,
   "metadata": {},
   "outputs": [],
   "source": [
    "lstbinned_file = os.path.join(lstbin_dir, 'zen.grp1.of1.LST.1.40949.HH.OCRSL.uvh5')\n",
    "lst_uvp, lst_blps = pspec_calc(lstbinned_file)"
   ]
  },
  {
   "cell_type": "code",
   "execution_count": null,
   "metadata": {},
   "outputs": [],
   "source": [
    "# Plot the spectra averaged over baseline-pairs\n",
    "fig, ax = plt.subplots(figsize=(12, 8))\n",
    "fig = hp.plot.delay_spectrum(lst_uvp, [lst_blps,], spw=0, pol=('xx','xx'), average_blpairs=True, \\\n",
    "                             average_times=False, ax=ax)\n",
    "plt.tight_layout()\n",
    "plt.show()"
   ]
  },
  {
   "cell_type": "code",
   "execution_count": null,
   "metadata": {},
   "outputs": [],
   "source": [
    "# Plot the spectra averaged over both time and baseline-pairs\n",
    "fig, ax = plt.subplots(figsize=(12, 8))\n",
    "fig = hp.plot.delay_spectrum(lst_uvp, [lst_blps,], spw=0, pol=('xx','xx'), average_blpairs=True, \\\n",
    "                             average_times=True, ax=ax)\n",
    "plt.tight_layout()\n",
    "plt.show()"
   ]
  },
  {
   "cell_type": "markdown",
   "metadata": {},
   "source": [
    "### OCRSD visibilities"
   ]
  },
  {
   "cell_type": "code",
   "execution_count": null,
   "metadata": {},
   "outputs": [],
   "source": [
    "delay_filtered_fn = raw_data_fn.replace('uvh5', 'OCRSD.uvh5')\n",
    "delay_filtered_file = os.path.join(analysis_folder, delay_filtered_fn)"
   ]
  },
  {
   "cell_type": "code",
   "execution_count": null,
   "metadata": {},
   "outputs": [],
   "source": [
    "dly_uvp, dly_blps = pspec_calc(delay_filtered_file)"
   ]
  },
  {
   "cell_type": "code",
   "execution_count": null,
   "metadata": {},
   "outputs": [],
   "source": [
    "# Plot the spectra averaged over baseline-pairs and times\n",
    "fig, ax = plt.subplots(figsize=(12, 8))\n",
    "fig = hp.plot.delay_spectrum(dly_uvp, [dly_blps,], spw=0, pol=('xx','xx'), average_blpairs=True, \\\n",
    "                             average_times=True, ax=ax)\n",
    "plt.tight_layout()\n",
    "plt.show()"
   ]
  }
 ],
 "metadata": {
  "kernelspec": {
   "display_name": "Python 3",
   "language": "python",
   "name": "python3"
  },
  "language_info": {
   "codemirror_mode": {
    "name": "ipython",
    "version": 3
   },
   "file_extension": ".py",
   "mimetype": "text/x-python",
   "name": "python",
   "nbconvert_exporter": "python",
   "pygments_lexer": "ipython3",
   "version": "3.7.6"
  },
  "toc": {
   "base_numbering": 1,
   "nav_menu": {},
   "number_sections": true,
   "sideBar": true,
   "skip_h1_title": false,
   "title_cell": "Table of Contents",
   "title_sidebar": "Contents",
   "toc_cell": false,
   "toc_position": {},
   "toc_section_display": true,
   "toc_window_display": false
  }
 },
 "nbformat": 4,
 "nbformat_minor": 2
}
