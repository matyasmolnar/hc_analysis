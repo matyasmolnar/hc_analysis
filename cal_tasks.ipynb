{
 "cells": [
  {
   "cell_type": "markdown",
   "metadata": {},
   "source": [
    "<center><strong><font size=+3>Explicit calibration of H1C_IDR2.2 visibilities</font></center>\n",
    "<br><br>\n",
    "</center>\n",
    "<center><strong><font size=+2>Matyas Molnar</font><br></strong></center>\n",
    "<br><center><strong><font size=+1>Astrophysics Group, Cavendish Laboratory, University of Cambridge</font></strong></center>"
   ]
  },
  {
   "cell_type": "markdown",
   "metadata": {},
   "source": [
    "Notebook to show how to explicitly calibrate HERA datasets in `uvh5` file format, using the calibration functions from the [hera_cal](https://github.com/HERA-Team/hera_cal) package."
   ]
  },
  {
   "cell_type": "code",
   "execution_count": null,
   "metadata": {},
   "outputs": [],
   "source": [
    "import glob\n",
    "import os\n",
    "\n",
    "import numpy as np\n",
    "from matplotlib import pyplot as plt\n",
    "\n",
    "from hera_cal.abscal import post_redcal_abscal_run\n",
    "from hera_cal.apply_cal import apply_cal\n",
    "from hera_cal.io import HERAData, HERACal\n",
    "from hera_cal.redcal import get_reds, redcal_run\n",
    "\n",
    "from cal_utils import plot_vis, waterfall_column"
   ]
  },
  {
   "cell_type": "code",
   "execution_count": null,
   "metadata": {},
   "outputs": [],
   "source": [
    "%matplotlib inline"
   ]
  },
  {
   "cell_type": "code",
   "execution_count": null,
   "metadata": {},
   "outputs": [],
   "source": [
    "JD = 2458098.43869"
   ]
  },
  {
   "cell_type": "code",
   "execution_count": null,
   "metadata": {},
   "outputs": [],
   "source": [
    "analysis_folder = '/lustre/aoc/projects/hera/H1C_IDR2/IDR2_2/{}'.format(int(JD))\n",
    "raw_data_fn = 'zen.{}.HH.uvh5'.format(JD)\n",
    "\n",
    "hera_pkgs = '/users/heramgr/hera_software/'\n",
    "if not os.path.exists(analysis_folder): # working locally\n",
    "    analysis_folder = '/Users/matyasmolnar/Downloads/HERA_Data/hc_analysis/sample_calib'\n",
    "    hera_pkgs = '/Users/matyasmolnar/Downloads/HERA_Data/hera_packages/'"
   ]
  },
  {
   "cell_type": "markdown",
   "metadata": {},
   "source": [
    "## Raw visibilities"
   ]
  },
  {
   "cell_type": "code",
   "execution_count": null,
   "metadata": {},
   "outputs": [],
   "source": [
    "raw_data_file = os.path.join(analysis_folder, raw_data_fn)\n",
    "# this is the baseline and file we examine through this notebook\n",
    "bl = (12, 13, 'ee')#(38, 39, 'ee')"
   ]
  },
  {
   "cell_type": "code",
   "execution_count": null,
   "metadata": {},
   "outputs": [],
   "source": [
    "hd = HERAData(raw_data_file)\n",
    "data, flags, nsamples = hd.read(bls=[bl]) # only loads a single bl; default loads all bls"
   ]
  },
  {
   "cell_type": "code",
   "execution_count": null,
   "metadata": {},
   "outputs": [],
   "source": [
    "plot_vis(data, flags, hd, JD, bl, 'phase', title='Raw Visibility Phases')"
   ]
  },
  {
   "cell_type": "code",
   "execution_count": null,
   "metadata": {},
   "outputs": [],
   "source": [
    "plot_vis(data, flags, hd, JD, bl, 'amp', title='Raw Visibility Amplitudes')"
   ]
  },
  {
   "cell_type": "markdown",
   "metadata": {},
   "source": [
    "## Redundant calibration"
   ]
  },
  {
   "cell_type": "code",
   "execution_count": null,
   "metadata": {},
   "outputs": [],
   "source": [
    "# load firstcal gains and flags\n",
    "firstcal_fn = raw_data_fn.replace('uvh5', 'first.calfits')\n",
    "firstcal_file = os.path.join(analysis_folder, firstcal_fn)\n",
    "hc = HERACal(firstcal_file)\n",
    "fc_gains, fc_flags, _, _ = hc.read()"
   ]
  },
  {
   "cell_type": "code",
   "execution_count": null,
   "metadata": {},
   "outputs": [],
   "source": [
    "bad_ants_file = os.path.join(hera_pkgs, 'hera_pipelines/pipelines/h1c/idr2/v2/bad_ants/{}.txt'.format(int(JD)))\n",
    "\n",
    "bad_ants = np.loadtxt(bad_ants_file).astype(int)\n",
    "print('Bad antennas for JD {} are: {}'.format(int(JD), list(bad_ants)))"
   ]
  },
  {
   "cell_type": "code",
   "execution_count": null,
   "metadata": {},
   "outputs": [],
   "source": [
    "omni_vis_fn = raw_data_fn.replace('uvh5', 'omni_vis.uvh5')\n",
    "omni_vis_file = os.path.join(analysis_folder, omni_vis_fn)\n",
    "\n",
    "if not os.path.exists(omni_vis_file):\n",
    "    print('Running REDCAL on raw visibility file')\n",
    "    ant_z_thresh = 4.0\n",
    "    solar_horizon = 0.0\n",
    "    nInt_to_load = 8\n",
    "    flag_nchan_low = 50\n",
    "    flag_nchan_high = 50\n",
    "    min_bl_cut = 15\n",
    "    max_bl_cut = 90\n",
    "    ex_ants = bad_ants\n",
    "    outdir = analysis_folder\n",
    "\n",
    "    redcal_run(raw_data_file, filetype='uvh5', firstcal_ext='.first.calfits', omnical_ext='.omni.calfits',\n",
    "            omnivis_ext='.omni_vis.uvh5', iter0_prefix='', outdir=outdir, ant_metrics_file=None, clobber=True, \n",
    "            nInt_to_load=nInt_to_load, pol_mode='2pol', bl_error_tol=1.0, ex_ants=ex_ants, ant_z_thresh=ant_z_thresh, \n",
    "            max_rerun=5, solar_horizon=solar_horizon, flag_nchan_low=flag_nchan_low, flag_nchan_high=flag_nchan_high, \n",
    "            fc_conv_crit=1e-6, fc_maxiter=50, oc_conv_crit=1e-10, oc_maxiter=500, check_every=10, check_after=50, gain=.4, \n",
    "            add_to_history='', verbose=True, min_bl_cut=min_bl_cut, max_bl_cut=max_bl_cut)\n",
    "else:\n",
    "    print('REDCAL omni calibrated file already exists')"
   ]
  },
  {
   "cell_type": "code",
   "execution_count": null,
   "metadata": {},
   "outputs": [],
   "source": [
    "hd = HERAData(omni_vis_file)"
   ]
  },
  {
   "cell_type": "code",
   "execution_count": null,
   "metadata": {},
   "outputs": [],
   "source": [
    "# recall that at this stage, after redcal, all baselines of the same type are aggregated into baseline groups\n",
    "# with the baseline group nameed after the first baseline in that group type\n",
    "reds = get_reds(hd.antpos, pols=['ee'])\n",
    "red_dict = {bl: bl_group[0] for bl_group in reds for bl in bl_group}\n",
    "bl_red = red_dict[bl]\n",
    "print('Baseline {} corresponds to redundant baseline group of type {}'.format(bl, bl_red))"
   ]
  },
  {
   "cell_type": "code",
   "execution_count": null,
   "metadata": {},
   "outputs": [],
   "source": [
    "# lists of available baselines\n",
    "selected_bls = [bl for bl, red_bl in red_dict.items() if red_bl == bl_red]\n",
    "selected_bls_flagged = [bl for bl in selected_bls if not any(j in bad_ants for j in bl[:2])]"
   ]
  },
  {
   "cell_type": "code",
   "execution_count": null,
   "metadata": {},
   "outputs": [],
   "source": [
    "# load redundant baseline of type bl_red\n",
    "redcal_data, redcal_flags, redcal_nsamples = hd.read(bls=bl_red)"
   ]
  },
  {
   "cell_type": "code",
   "execution_count": null,
   "metadata": {},
   "outputs": [],
   "source": [
    "plot_vis(redcal_data, redcal_flags, hd, JD, bl_red, 'phase', \\\n",
    "         title='Omni Calibrated Visibility Phases of Redundant Group')"
   ]
  },
  {
   "cell_type": "code",
   "execution_count": null,
   "metadata": {},
   "outputs": [],
   "source": [
    "plot_vis(redcal_data, redcal_flags, hd, JD, bl_red, 'amp', \\\n",
    "         title='Omni Calibrated Visibility Amplitudes of Redundant Group')"
   ]
  },
  {
   "cell_type": "markdown",
   "metadata": {},
   "source": [
    "## Absolute calibration"
   ]
  },
  {
   "cell_type": "code",
   "execution_count": null,
   "metadata": {},
   "outputs": [],
   "source": [
    "# Find corresponding LSTs in the externally calibrated Abscal Model\n",
    "model_dir = '/lustre/aoc/projects/hera/nkern/idr3_abscal_models/full_model/' # at NRAO\n",
    "if not os.path.exists(model_dir):\n",
    "    model_dir = analysis_folder # local copy\n",
    "model_files = glob.glob(os.path.join(model_dir, 'zen.2458042.*.HH.uvRXLS.uvh5')) # cheatingly slightly by only checking the .5* files"
   ]
  },
  {
   "cell_type": "code",
   "execution_count": null,
   "metadata": {},
   "outputs": [],
   "source": [
    "omni_cal_file = omni_vis_file.replace('omni_vis.uvh5', 'omni.calfits')\n",
    "abs_vis_fn = raw_data_fn.replace('uvh5', 'abs_vis.uvh5')\n",
    "abs_vis_file = os.path.join(analysis_folder, abs_vis_fn)\n",
    "abs_cal_file = abs_vis_file.replace('abs_vis.uvh5', 'abs.calfits')\n",
    "\n",
    "if not os.path.exists(abs_cal_file):\n",
    "    print('Running ABSCAL on redundantly calibrated visibility file')\n",
    "    nInt_to_load = 6\n",
    "    min_bl_cut = 1.0\n",
    "    max_bl_cut = 100.0\n",
    "    phs_max_iter = 100\n",
    "    phs_conv_crit = 1e-6\n",
    "    edge_cut = 100\n",
    "\n",
    "    # ABSCAL output file is a calfits file\n",
    "    post_redcal_abscal_run(raw_data_file, omni_cal_file, model_files, raw_auto_file=None, data_is_redsol=False, \\\n",
    "                           model_is_redundant=False, output_file=abs_cal_file, nInt_to_load=nInt_to_load, data_solar_horizon=90, \\\n",
    "                           model_solar_horizon=90, extrap_limit=.5, min_bl_cut=min_bl_cut, max_bl_cut=max_bl_cut, edge_cut=edge_cut, \\\n",
    "                           tol=1.0, phs_max_iter=phs_max_iter, phs_conv_crit=phs_conv_crit, refant=None, clobber=True, add_to_history='', \\\n",
    "                           verbose=True)\n",
    "else:\n",
    "    print('ABSCAL calibrated file already exists')"
   ]
  },
  {
   "cell_type": "code",
   "execution_count": null,
   "metadata": {},
   "outputs": [],
   "source": [
    "if not os.path.exists(abs_vis_file):\n",
    "    apply_cal(raw_data_file, abs_vis_file, abs_cal_file, old_calibration=None)"
   ]
  },
  {
   "cell_type": "code",
   "execution_count": null,
   "metadata": {},
   "outputs": [],
   "source": [
    "hd = HERAData(abs_vis_file)\n",
    "abscal_data, abscal_flags, abscal_nsamples = hd.read(bls=[bl])"
   ]
  },
  {
   "cell_type": "code",
   "execution_count": null,
   "metadata": {},
   "outputs": [],
   "source": [
    "plot_vis(abscal_data, abscal_flags, hd, JD, bl, 'phase', \\\n",
    "         title='Absolutely Calibrated Visibility Phases of Redundant Group')"
   ]
  },
  {
   "cell_type": "code",
   "execution_count": null,
   "metadata": {},
   "outputs": [],
   "source": [
    "plot_vis(abscal_data, abscal_flags, hd, JD, bl, 'amp', \\\n",
    "         title='Absolutely Calibrated Visibility Amplitudes of Redundant Group', \\\n",
    "         vmax=100)"
   ]
  },
  {
   "cell_type": "code",
   "execution_count": null,
   "metadata": {},
   "outputs": [],
   "source": []
  }
 ],
 "metadata": {
  "kernelspec": {
   "display_name": "Python 3",
   "language": "python",
   "name": "python3"
  },
  "language_info": {
   "codemirror_mode": {
    "name": "ipython",
    "version": 3
   },
   "file_extension": ".py",
   "mimetype": "text/x-python",
   "name": "python",
   "nbconvert_exporter": "python",
   "pygments_lexer": "ipython3",
   "version": "3.7.9"
  },
  "toc": {
   "base_numbering": 1,
   "nav_menu": {
    "height": "112px",
    "width": "298px"
   },
   "number_sections": true,
   "sideBar": true,
   "skip_h1_title": false,
   "title_cell": "Table of Contents",
   "title_sidebar": "Contents",
   "toc_cell": false,
   "toc_position": {
    "height": "calc(100% - 180px)",
    "left": "10px",
    "top": "150px",
    "width": "167.797px"
   },
   "toc_section_display": true,
   "toc_window_display": true
  }
 },
 "nbformat": 4,
 "nbformat_minor": 4
}
