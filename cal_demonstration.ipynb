{
 "cells": [
  {
   "cell_type": "markdown",
   "metadata": {},
   "source": [
    "<center><strong><font size=+3>Calibration demonstration</font></center>\n",
    "<br><br>\n",
    "</center>\n",
    "<center><strong><font size=+2>Matyas Molnar</font><br></strong></center>\n",
    "<br><center><strong><font size=+1>Astrophysics Group, Cavendish Laboratory, University of Cambridge</font></strong></center>"
   ]
  },
  {
   "cell_type": "markdown",
   "metadata": {},
   "source": [
    "Gridded plots of redundant visibilities at each stage of the calibration pipeline, inspired by [Josh Dillon's plotting notebook](https://github.com/HERA-Team/hera_sandbox/blob/master/jsd/Data_Inspection/Abscal_Omnical_Demonstration_Plots.ipynb)."
   ]
  },
  {
   "cell_type": "code",
   "execution_count": null,
   "metadata": {},
   "outputs": [],
   "source": [
    "import glob\n",
    "import os\n",
    "from copy import deepcopy\n",
    "\n",
    "import numpy as np\n",
    "from matplotlib import pyplot as plt\n",
    "\n",
    "from hera_cal.apply_cal import calibrate_in_place\n",
    "from hera_cal.io import HERAData, HERACal\n",
    "from hera_cal.redcal import get_reds\n",
    "\n",
    "from cal_utils import apply_mask, ex_badants, plot_reds"
   ]
  },
  {
   "cell_type": "code",
   "execution_count": null,
   "metadata": {},
   "outputs": [],
   "source": [
    "%matplotlib inline"
   ]
  },
  {
   "cell_type": "code",
   "execution_count": null,
   "metadata": {},
   "outputs": [],
   "source": [
    "JD = 2458098.43869\n",
    "pol = 'ee'\n",
    "bl = (38, 39, 'ee') # baseline examined in this notebook"
   ]
  },
  {
   "cell_type": "code",
   "execution_count": null,
   "metadata": {},
   "outputs": [],
   "source": [
    "plot_figs = False\n",
    "if plot_figs:\n",
    "    import matplotlib as mpl\n",
    "    mpl.rcParams['figure.dpi'] = 300"
   ]
  },
  {
   "cell_type": "markdown",
   "metadata": {},
   "source": [
    "## Reading the data"
   ]
  },
  {
   "cell_type": "code",
   "execution_count": null,
   "metadata": {},
   "outputs": [],
   "source": [
    "analysis_folder = '/lustre/aoc/projects/hera/H1C_IDR2/IDR2_2/{}'.format(int(JD))\n",
    "raw_data_fn = 'zen.{}.HH.uvh5'.format(JD)\n",
    "\n",
    "hera_pkgs = '/users/heramgr/hera_software/'\n",
    "if not os.path.exists(analysis_folder): # working locally\n",
    "    analysis_folder = '/Users/matyasmolnar/Downloads/HERA_Data/hc_analysis/sample_calib'\n",
    "    hera_pkgs = '/Users/matyasmolnar/Downloads/HERA_Data/hera_packages/'"
   ]
  },
  {
   "cell_type": "code",
   "execution_count": null,
   "metadata": {},
   "outputs": [],
   "source": [
    "raw_data_file = os.path.join(analysis_folder, raw_data_fn)\n",
    "hd = HERAData(raw_data_file)"
   ]
  },
  {
   "cell_type": "code",
   "execution_count": null,
   "metadata": {},
   "outputs": [],
   "source": [
    "reds = get_reds(hd.antpos, pols=[pol])\n",
    "red_dict = {bl: bl_group[0] for bl_group in reds for bl in bl_group}\n",
    "bl_red = red_dict[bl]\n",
    "print('Baseline {} corresponds to redundant baseline group of type {}'.format(bl, bl_red))"
   ]
  },
  {
   "cell_type": "code",
   "execution_count": null,
   "metadata": {},
   "outputs": [],
   "source": [
    "red_idx = np.where((np.asarray([redg[0] for redg in reds]) == np.asarray(bl_red)).all(axis=1))[0][0]\n",
    "slct_redg = reds[red_idx][:15] # only choose first 15..\n",
    "print('Baselines in redundant group {}: {}'.format(bl_red, slct_redg))"
   ]
  },
  {
   "cell_type": "markdown",
   "metadata": {},
   "source": [
    "## Raw visibilities"
   ]
  },
  {
   "cell_type": "code",
   "execution_count": null,
   "metadata": {},
   "outputs": [],
   "source": [
    "red_data, red_flags, nsamples = hd.read(bls=slct_redg) # only load redundant group"
   ]
  },
  {
   "cell_type": "code",
   "execution_count": null,
   "metadata": {},
   "outputs": [],
   "source": [
    "plot_reds(red_data, slct_redg, \\\n",
    "          'Phase of Raw Visibilities for Baselines Redundant to {}'.format(bl_red))"
   ]
  },
  {
   "cell_type": "markdown",
   "metadata": {},
   "source": [
    "## Bad antennas"
   ]
  },
  {
   "cell_type": "code",
   "execution_count": null,
   "metadata": {},
   "outputs": [],
   "source": [
    "bad_ants_file = os.path.join(hera_pkgs, 'hera_pipelines/pipelines/h1c/idr2/v2/bad_ants/{}.txt'.format(int(JD)))\n",
    "bad_ants = np.loadtxt(bad_ants_file).astype(int)\n",
    "print('Bad antennas for JD {} are: {}'.format(int(JD), list(bad_ants)))"
   ]
  },
  {
   "cell_type": "code",
   "execution_count": null,
   "metadata": {},
   "outputs": [],
   "source": [
    "bad_bls = []\n",
    "for (i, j, pol) in slct_redg:\n",
    "    if i in bad_ants or j in bad_ants:\n",
    "        bad_bls.append((i, j, pol))\n",
    "print('Bad baselines are {}'.format(bad_bls))"
   ]
  },
  {
   "cell_type": "code",
   "execution_count": null,
   "metadata": {},
   "outputs": [],
   "source": [
    "red_data_ex_ant = deepcopy(red_data)\n",
    "red_data_ex_ant = ex_badants(red_data_ex_ant, bad_ants)"
   ]
  },
  {
   "cell_type": "code",
   "execution_count": null,
   "metadata": {},
   "outputs": [],
   "source": [
    "plot_reds(red_data_ex_ant, slct_redg, \\\n",
    "          'Phase of Raw Visibilities for Baselines Redundant to {}'.format(bl_red), \\\n",
    "          bad_bls=bad_bls)"
   ]
  },
  {
   "cell_type": "markdown",
   "metadata": {},
   "source": [
    "## Firstcal"
   ]
  },
  {
   "cell_type": "code",
   "execution_count": null,
   "metadata": {},
   "outputs": [],
   "source": [
    "# load firstcal gains and flags\n",
    "firstcal_fn = raw_data_fn.replace('uvh5', 'first.calfits')\n",
    "firstcal_file = os.path.join(analysis_folder, firstcal_fn)\n",
    "hc = HERACal(firstcal_file)\n",
    "fc_gains, fc_flags, _, _ = hc.read()"
   ]
  },
  {
   "cell_type": "code",
   "execution_count": null,
   "metadata": {},
   "outputs": [],
   "source": [
    "fc_red_data = deepcopy(red_data)\n",
    "fc_red_flags = deepcopy(red_flags)\n",
    "calibrate_in_place(fc_red_data, fc_gains, data_flags=fc_red_flags, cal_flags=fc_flags)\n",
    "fc_red_data = ex_badants(fc_red_data, bad_ants)"
   ]
  },
  {
   "cell_type": "code",
   "execution_count": null,
   "metadata": {},
   "outputs": [],
   "source": [
    "plot_reds(fc_red_data, slct_redg, \\\n",
    "          'Phase of Firstcal Visibilities for Baselines Redundant to {}'.format(bl_red), \\\n",
    "          flags=fc_red_flags, bad_bls=bad_bls)"
   ]
  },
  {
   "cell_type": "markdown",
   "metadata": {},
   "source": [
    "## Redcal"
   ]
  },
  {
   "cell_type": "code",
   "execution_count": null,
   "metadata": {},
   "outputs": [],
   "source": [
    "# load omnical gains and flags\n",
    "omnical_fn = raw_data_fn.replace('uvh5', 'omni.calfits')\n",
    "omnical_file = os.path.join(analysis_folder, omnical_fn)\n",
    "hc = HERACal(omnical_file)\n",
    "oc_gains, oc_flags, _, _ = hc.read()"
   ]
  },
  {
   "cell_type": "code",
   "execution_count": null,
   "metadata": {},
   "outputs": [],
   "source": [
    "oc_red_data = deepcopy(red_data)\n",
    "oc_red_flags = deepcopy(red_flags)\n",
    "calibrate_in_place(oc_red_data, oc_gains, data_flags=oc_red_flags, cal_flags=oc_flags)\n",
    "oc_red_data = ex_badants(oc_red_data, bad_ants)"
   ]
  },
  {
   "cell_type": "code",
   "execution_count": null,
   "metadata": {},
   "outputs": [],
   "source": [
    "plot_reds(oc_red_data, slct_redg, \\\n",
    "          'Phase of Redcal Visibilities for Baselines Redundant to {}'.format(bl_red), \\\n",
    "          flags=oc_red_flags, bad_bls=bad_bls)"
   ]
  },
  {
   "cell_type": "markdown",
   "metadata": {},
   "source": [
    " ## Abscal"
   ]
  },
  {
   "cell_type": "code",
   "execution_count": null,
   "metadata": {},
   "outputs": [],
   "source": [
    "# load abscal gains and flags\n",
    "abscal_fn = raw_data_fn.replace('uvh5', 'abs.calfits')\n",
    "abscal_fn_file = os.path.join(analysis_folder, abscal_fn)\n",
    "hc = HERACal(abscal_fn_file)\n",
    "abs_gains, abs_flags, _, _ = hc.read()"
   ]
  },
  {
   "cell_type": "code",
   "execution_count": null,
   "metadata": {},
   "outputs": [],
   "source": [
    "abs_red_data = deepcopy(red_data)\n",
    "abs_red_flags = deepcopy(red_flags)\n",
    "calibrate_in_place(abs_red_data, abs_gains, data_flags=abs_red_flags, cal_flags=abs_flags)\n",
    "abs_red_data = ex_badants(abs_red_data, bad_ants)"
   ]
  },
  {
   "cell_type": "code",
   "execution_count": null,
   "metadata": {},
   "outputs": [],
   "source": [
    "plot_reds(abs_red_data, slct_redg, \\\n",
    "          'Phase of Abscal Visibilities for Baselines Redundant to {}'.format(bl_red), \\\n",
    "          flags=abs_red_flags, bad_bls=bad_bls)"
   ]
  },
  {
   "cell_type": "markdown",
   "metadata": {},
   "source": [
    "## Abscal + masked band edges"
   ]
  },
  {
   "cell_type": "code",
   "execution_count": null,
   "metadata": {},
   "outputs": [],
   "source": [
    "abs_red_data_masked = deepcopy(abs_red_data)\n",
    "abs_red_data_masked = apply_mask(abs_red_data_masked, flags=None, edge_cut=100)"
   ]
  },
  {
   "cell_type": "code",
   "execution_count": null,
   "metadata": {},
   "outputs": [],
   "source": [
    "plot_reds(abs_red_data_masked, slct_redg, \\\n",
    "          'Phase of Abscal Visibilities for Baselines Redundant to {}'.format(bl_red), \\\n",
    "          bad_bls=bad_bls)"
   ]
  },
  {
   "cell_type": "markdown",
   "metadata": {},
   "source": [
    "## Flagged abscal"
   ]
  },
  {
   "cell_type": "code",
   "execution_count": null,
   "metadata": {},
   "outputs": [],
   "source": [
    "# load flagged abscal gains and flags\n",
    "flg_abscal_fn = raw_data_fn.replace('uvh5', 'flagged_abs.calfits')\n",
    "flg_abscal_fn_file = os.path.join(analysis_folder, flg_abscal_fn)\n",
    "hc = HERACal(flg_abscal_fn_file)\n",
    "flg_abs_gains, flg_abs_flags, _, _ = hc.read()"
   ]
  },
  {
   "cell_type": "code",
   "execution_count": null,
   "metadata": {},
   "outputs": [],
   "source": [
    "flg_abs_red_data = deepcopy(red_data)\n",
    "flg_abs_red_flags = deepcopy(red_flags)\n",
    "calibrate_in_place(flg_abs_red_data, flg_abs_gains, data_flags=flg_abs_red_flags, cal_flags=flg_abs_flags)\n",
    "flg_abs_red_data = ex_badants(flg_abs_red_data, bad_ants)\n",
    "flg_abs_red_data = apply_mask(flg_abs_red_data, flags=None, edge_cut=100)"
   ]
  },
  {
   "cell_type": "code",
   "execution_count": null,
   "metadata": {},
   "outputs": [],
   "source": [
    "plot_reds(flg_abs_red_data, slct_redg, \\\n",
    "          'Phase of Abscal Visibilities for Baselines Redundant to {}'.format(bl_red), \\\n",
    "          flags=flg_abs_red_flags, bad_bls=bad_bls)"
   ]
  },
  {
   "cell_type": "markdown",
   "metadata": {},
   "source": [
    "## Smoothed abs"
   ]
  },
  {
   "cell_type": "code",
   "execution_count": null,
   "metadata": {},
   "outputs": [],
   "source": [
    "# load flagged abscal gains and flags\n",
    "smooth_abscal_fn = raw_data_fn.replace('uvh5', 'smooth_abs.calfits')\n",
    "smooth_abscal_fn_file = os.path.join(analysis_folder, smooth_abscal_fn)\n",
    "hc = HERACal(smooth_abscal_fn_file)\n",
    "smooth_abs_gains, smooth_abs_flags, _, _ = hc.read()"
   ]
  },
  {
   "cell_type": "code",
   "execution_count": null,
   "metadata": {},
   "outputs": [],
   "source": [
    "smooth_abs_red_data = deepcopy(red_data)\n",
    "smooth_abs_red_flags = deepcopy(red_flags)\n",
    "calibrate_in_place(smooth_abs_red_data, smooth_abs_gains, data_flags=smooth_abs_red_flags, \\\n",
    "                   cal_flags=smooth_abs_flags)\n",
    "smooth_abs_red_data = ex_badants(smooth_abs_red_data, bad_ants)\n",
    "smooth_abs_red_data = apply_mask(smooth_abs_red_data, flags=smooth_abs_red_flags, \\\n",
    "                                 edge_cut=100)"
   ]
  },
  {
   "cell_type": "code",
   "execution_count": null,
   "metadata": {},
   "outputs": [],
   "source": [
    "plot_reds(smooth_abs_red_data, slct_redg, \\\n",
    "          'Phase of Abscal Visibilities for Baselines Redundant to {}'.format(bl_red), \\\n",
    "          flags=smooth_abs_red_flags, bad_bls=bad_bls)"
   ]
  }
 ],
 "metadata": {
  "kernelspec": {
   "display_name": "Python 3",
   "language": "python",
   "name": "python3"
  },
  "language_info": {
   "codemirror_mode": {
    "name": "ipython",
    "version": 3
   },
   "file_extension": ".py",
   "mimetype": "text/x-python",
   "name": "python",
   "nbconvert_exporter": "python",
   "pygments_lexer": "ipython3",
   "version": "3.7.9"
  },
  "toc": {
   "base_numbering": 1,
   "nav_menu": {},
   "number_sections": true,
   "sideBar": true,
   "skip_h1_title": false,
   "title_cell": "Table of Contents",
   "title_sidebar": "Contents",
   "toc_cell": false,
   "toc_position": {},
   "toc_section_display": true,
   "toc_window_display": false
  }
 },
 "nbformat": 4,
 "nbformat_minor": 4
}
